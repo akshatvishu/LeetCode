{
 "cells": [
  {
   "attachments": {},
   "cell_type": "markdown",
   "metadata": {},
   "source": [
    "### BackTracking Template :"
   ]
  },
  {
   "cell_type": "code",
   "execution_count": null,
   "metadata": {},
   "outputs": [],
   "source": [
    "def backtrack(nums):\n",
    "\n",
    "    def backtrackHelper(subsets, temp, nums, additional_parameters):\n",
    "    # Base case\n",
    "        if base_case_met:\n",
    "            subsets.append(temp.copy())\n",
    "            return\n",
    "        for i in range(start, len(nums)):\n",
    "            # Check for duplicates or already used elements\n",
    "            if condition:\n",
    "                continue\n",
    "            # Add current element to the temp list\n",
    "            temp.append(nums[i])\n",
    "            # Make a recursive call with updated input\n",
    "            backtrackHelper(subsets, temp, nums, updated_additional_parameters)\n",
    "            # Backtrack\n",
    "            temp.pop()\n",
    "\n",
    "    # Initialize an empty list to store the subsets\n",
    "    subsets = []\n",
    "    # Any necessary pre-processing (e.g. sorting)\n",
    "    # Call the helper function\n",
    "    backtrackHelper(subsets, [], nums, additional_parameters)\n",
    "    return subsets\n",
    "\n",
    "\"\"\" Time and Space Complexity :\n",
    "The time complexity of this algorithm is O(2^n) where 'n' is the length of the input list 'nums'. \n",
    "This is because in the worst case scenario, \n",
    "the algorithm will generate all possible subsets of the input list.\n",
    "\n",
    "The algorithm uses a backtracking technique,\n",
    " where it starts with an empty subset and generates new subsets by adding one element at a time to the existing subset. \n",
    " It then makes a recursive call with the updated subset and continues generating new subsets in this manner.\n",
    "\n",
    "For each element in the input list, there are two possibilities: either it is included in the subset or not. \n",
    "Therefore, the total number of subsets that can be generated is 2^n.\n",
    "\"\"\""
   ]
  },
  {
   "attachments": {},
   "cell_type": "markdown",
   "metadata": {},
   "source": [
    "1. Initialize an empty list to store the subsets.\n",
    "2. Sort the input array if necessary.\n",
    "3. Define the helper function backtrackHelper which takes the subsets list, the temp list, the input array and some additional parameters.\n",
    "4. In the helper function, define the base case and check whether the base case is met. If the base case is met, add the current temp list to the subsets list, and return.\n",
    "5. Iterate over the input array, starting at a specific index.\n",
    "6. In each iteration, check whether the element should be skipped by checking some conditions, such as whether the element is already used or whether the element is a duplicate.\n",
    "7. Add the current element to the temp list.\n",
    "8. Make a recursive call to the helper function with updated input.\n",
    "9. Backtrack by removing the last element from the temp list.\n",
    "10. Return the subsets list."
   ]
  }
 ],
 "metadata": {
  "kernelspec": {
   "display_name": "Python 3",
   "language": "python",
   "name": "python3"
  },
  "language_info": {
   "name": "python",
   "version": "3.10.6"
  },
  "orig_nbformat": 4,
  "vscode": {
   "interpreter": {
    "hash": "916dbcbb3f70747c44a77c7bcd40155683ae19c65e1c03b4aa3499c5328201f1"
   }
  }
 },
 "nbformat": 4,
 "nbformat_minor": 2
}
