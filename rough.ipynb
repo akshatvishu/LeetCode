{
 "cells": [
  {
   "cell_type": "code",
   "execution_count": 4,
   "metadata": {},
   "outputs": [
    {
     "name": "stdout",
     "output_type": "stream",
     "text": [
      "[1, 2, 6, 4]\n"
     ]
    }
   ],
   "source": [
    "s = [1,2,6,4]\n",
    "\n",
    "print(f'{s}',)"
   ]
  },
  {
   "cell_type": "code",
   "execution_count": 5,
   "metadata": {},
   "outputs": [],
   "source": [
    "class TreeNode:\n",
    "    def __init__(self, val=0, left=None, right=None):\n",
    "        self.val = val\n",
    "        self.left = left\n",
    "        self.right = right\n",
    "\n",
    "\n",
    "\n",
    "## Monotonic Stack : \n",
    "# Build the tree by iterating the array while maintaining subtrees in a monotonic stack.\n",
    "\n",
    "\n",
    "\n",
    "\n"
   ]
  },
  {
   "cell_type": "code",
   "execution_count": 6,
   "metadata": {},
   "outputs": [
    {
     "ename": "SyntaxError",
     "evalue": "invalid syntax (2934284472.py, line 1)",
     "output_type": "error",
     "traceback": [
      "\u001b[0;36m  Cell \u001b[0;32mIn [6], line 1\u001b[0;36m\u001b[0m\n\u001b[0;31m    **()\u001b[0m\n\u001b[0m    ^\u001b[0m\n\u001b[0;31mSyntaxError\u001b[0m\u001b[0;31m:\u001b[0m invalid syntax\n"
     ]
    }
   ],
   "source": [
    "/**\n",
    " * Definition for a binary tree node.\n",
    " * public class TreeNode {\n",
    " *     int val;\n",
    " *     TreeNode left;\n",
    " *     TreeNode right;\n",
    " *     TreeNode() {}\n",
    " *     TreeNode(int val) { this.val = val; }\n",
    " *     TreeNode(int val, TreeNode left, TreeNode right) {\n",
    " *         this.val = val;\n",
    " *         this.left = left;\n",
    " *         this.right = right;\n",
    " *     }\n",
    " * }\n",
    " */\n",
    "class Solution {\n",
    "\n",
    "    /** \n",
    "        This problem has been asked in below companies:\n",
    "        Amazon\n",
    "        Microsoft\n",
    "\n",
    "    */\n",
    "\n",
    "    /** \n",
    "        The intuition is to use monotonic stack. \n",
    "        To maintain a decreasing order stack, in the decreasing order we will connect each node on the right of the\n",
    "        top element in stack.\n",
    "\n",
    "        Whenever we find a greater value we will start to pop element from stack and connect the popped element\n",
    "        on the left of the current element, we will be doing this process untill we found a grater element in the stack\n",
    "\n",
    "        once we are done with traversing the array, we need to return the most bottom element in the stack\n",
    "\n",
    "        Time complexity: O(n)\n",
    "        Space complexity: O(n)\n",
    "\n",
    "    */\n",
    "\n",
    "\n",
    "    public TreeNode constructMaximumBinaryTree(int[] nums) {\n",
    "\n",
    "        // to store the node in decreasing order\n",
    "        Stack<TreeNode> stack = new Stack<>();\n",
    "\n",
    "        // traverse the array\n",
    "        for(int num : nums) {\n",
    "            // create a new node\n",
    "            TreeNode node = new TreeNode(num);\n",
    "\n",
    "            // check the stack is not empty and current element is greater than \n",
    "            // the top element in the stack \n",
    "            // if yes then pop the node and connect to the right of the current node\n",
    "            while(!stack.isEmpty() && stack.peek().val < num) {\n",
    "                TreeNode temp = stack.pop();\n",
    "                node.left = temp;\n",
    "            }\n",
    "\n",
    "            // if the stack is not empty\n",
    "            // meaning the current element is less than the top element in the stack\n",
    "            // so connect the curre node in the right of the top element node in the stack\n",
    "            if(!stack.isEmpty()) stack.peek().right = node;\n",
    "\n",
    "            // add the current node in the stack\n",
    "            stack.push(node);\n",
    "        }\n",
    "\n",
    "        // return the most bottom element in the stack\n",
    "        return stack.firstElement();\n",
    "        \n",
    "    }\n",
    "}"
   ]
  },
  {
   "cell_type": "code",
   "execution_count": null,
   "metadata": {},
   "outputs": [
    {
     "name": "stdout",
     "output_type": "stream",
     "text": [
      "the nums list is = [1, 2, 0, 5, 1]\n",
      "the last value at the moment isNone\n",
      " if last = 1\n",
      "value at last= 1\n",
      " if last = 2\n",
      "if stk = 2\n",
      " if last = 2\n",
      "value at last= 2\n",
      " if last = 5\n",
      "if stk = 5\n",
      " if last = 5\n"
     ]
    },
    {
     "data": {
      "text/plain": [
       "<__main__.TreeNode at 0x7ff7f023e6d0>"
      ]
     },
     "execution_count": 5,
     "metadata": {},
     "output_type": "execute_result"
    }
   ],
   "source": [
    "x = Solution()\n",
    "x.constructMaximumBinaryTree(nums=[1,2,0,5,1])"
   ]
  },
  {
   "cell_type": "code",
   "execution_count": null,
   "metadata": {},
   "outputs": [],
   "source": [
    "def constructMaximumBinaryTree(self, nums: List[int]) -> TreeNode:\n",
    "\tstack = []\n",
    "\n",
    "\tfor x in nums:\n",
    "\t\tn = TreeNode(x)\n",
    "\t\t# if stack[-1] is less than x, then pop stack[-1] and set n.left to it\n",
    "\t\twhile stack and x > stack[-1].val:\n",
    "\t\t\tn.left = stack.pop()\n",
    "\n",
    "\t\t# if stack[-1] is greater than x, then set n to stack[-1].right\n",
    "\t\tif stack:\n",
    "\t\t\tstack[-1].right = n               \n",
    "\t\tstack.append(n)\n",
    "\n",
    "\treturn stack[0]"
   ]
  },
  {
   "cell_type": "code",
   "execution_count": 8,
   "metadata": {},
   "outputs": [
    {
     "data": {
      "text/plain": [
       "3"
      ]
     },
     "execution_count": 8,
     "metadata": {},
     "output_type": "execute_result"
    }
   ],
   "source": [
    "s = [1,2,3]\n",
    "\n",
    "s.pop()"
   ]
  },
  {
   "cell_type": "code",
   "execution_count": null,
   "metadata": {},
   "outputs": [],
   "source": [
    "     class Solution:\n",
    "def largestValues(self, root: Optional[TreeNode]) -> List[int]:\n",
    "    if not root:\n",
    "        return []\n",
    "    q=[root]\n",
    "    ans=[]\n",
    "    while q:\n",
    "        mx=-float('inf')\n",
    "        for i in range(len(q)):\n",
    "            node=q.pop(0)\n",
    "            if node.val>mx:\n",
    "                mx=node.val\n",
    "            if node.left:\n",
    "                q.append(node.left)\n",
    "            if node.right:\n",
    "                q.append(node.right)\n",
    "        ans.append(mx)\n",
    "    return ans"
   ]
  },
  {
   "cell_type": "code",
   "execution_count": null,
   "metadata": {},
   "outputs": [],
   "source": [
    "class Solution(object):\n",
    "    def largestValues(self, root):\n",
    "        ans = []\n",
    "        if root is None:\n",
    "            return ans\n",
    "        queue  = [root]\n",
    "        while queue:\n",
    "            ans.append(max(x.val for x in queue))\n",
    "            new_queue = []\n",
    "            for node in queue:\n",
    "                if node.left:\n",
    "                    new_queue.append(node.left)\n",
    "                if node.right:\n",
    "                    new_queue.append(node.right)\n",
    "            queue = new_queue\n",
    "        return ans\n",
    "\n",
    "class Solution(object):\n",
    "    def largestValues(self, root):\n",
    "        self.ans = []\n",
    "        self.helper(root, 0)\n",
    "        return self.ans\n",
    "    \n",
    "    def helper(self, node, level):\n",
    "        if not node:\n",
    "            return\n",
    "        if len(self.ans) == level:\n",
    "            self.ans.append(node.val)\n",
    "        else:\n",
    "            self.ans[level] = max(self.ans[level], node.val)\n",
    "        self.helper(node.left, level+1)\n",
    "        self.helper(node.right, level+1)"
   ]
  },
  {
   "cell_type": "code",
   "execution_count": null,
   "metadata": {},
   "outputs": [],
   "source": [
    "        \n",
    "        ans = []\n",
    "        \n",
    "        q = deque([root])\n",
    "        \n",
    "        if root:\n",
    "        \n",
    "            while q:\n",
    "\n",
    "                cur_max = -float('inf')\n",
    "\n",
    "                for _ in range(len(q)):\n",
    "\n",
    "                    cur = q.popleft()\n",
    "\n",
    "                    cur_max = max(cur.val,cur_max)\n",
    "\n",
    "                    if cur.left:\n",
    "                        q.append(cur.left)\n",
    "                    if cur.right:\n",
    "                        q.append(cur.right)\n",
    "\n",
    "                ans.append(cur_max)\n",
    "\n",
    "        return ans"
   ]
  },
  {
   "cell_type": "code",
   "execution_count": 39,
   "metadata": {},
   "outputs": [],
   "source": [
    "# Import the graphviz library\n",
    "import graphviz\n",
    "\n",
    "# Define a TreeNode class to represent a single node in the tree\n",
    "class TreeNode:\n",
    "    def __init__(self, val):\n",
    "        self.val = val\n",
    "        self.left = None\n",
    "        self.right = None\n",
    "\n",
    "# Define a function to visualize a binary tree\n",
    "def visualize_tree(root):\n",
    "    # Create a Graphviz Digraph object\n",
    "    digraph = graphviz.Digraph()\n",
    "\n",
    "    # Define a recursive function to add the nodes and edges of the tree to the Digraph\n",
    "    def add_nodes_and_edges(node, parent):\n",
    "        # Add the current node to the Digraph\n",
    "        digraph.node(node.val, label=node.val)\n",
    "\n",
    "        # If the current node has a parent, add an edge between the parent and the current node\n",
    "        if parent is not None:\n",
    "            digraph.edge(parent.val, node.val)\n",
    "\n",
    "        # If the current node has a left child, recursively call the function on the left child\n",
    "        if node.left is not None:\n",
    "            add_nodes_and_edges(node.left, node)\n",
    "\n",
    "        # If the current node has a right child, recursively call the function on the right child\n",
    "        if node.right is not None:\n",
    "            add_nodes_and_edges(node.right, node)\n",
    "\n",
    "    # Call the recursive function on the root of the tree, with no parent\n",
    "    add_nodes_and_edges(root, None)\n",
    "\n",
    "    # Return the Digraph object\n",
    "    return digraph\n",
    "\n",
    "# Define a function to display the preorder, inorder, and postorder transversal of a binary tree\n",
    "def display_transversals(root):\n",
    "    def postOrder(root, traversal):\n",
    "        if root:\n",
    "            postOrder(root.left, traversal)\n",
    "            postOrder(root.right, traversal)\n",
    "            traversal.append(root.val)\n",
    "        \n",
    "    \n",
    "    def inOrder(root, traversal):\n",
    "        if root:\n",
    "            inOrder(root.left, traversal)\n",
    "            traversal.append(root.val)\n",
    "            inOrder(root.right, traversal)\n",
    "        \n",
    "    def preOrder(root, traversal):\n",
    "        if root:\n",
    "            traversal.append(root.val)\n",
    "            preOrder(root.left, traversal)\n",
    "            preOrder(root.right, traversal)\n",
    "            \n",
    "    preorder = []\n",
    "    inorder = []\n",
    "    postorder = []\n",
    "    # Traverse the tree using each transversal method \n",
    "    # and store the values in the corresponding list\n",
    "    preOrder(root, preorder)\n",
    "    postOrder(root, postorder)\n",
    "    inOrder(root, inorder)\n",
    "    \n",
    "    # Print the transversal lists\n",
    "    print(\"Preorder:\", preorder)\n",
    "    print(\"Inorder:\", inorder)\n",
    "    print(\"Postorder:\", postorder)\n",
    "\n",
    "# Create a TreeNode object for the root of the tree\n",
    "root = TreeNode(\"A\")\n",
    "\n",
    "# Create the rest of the tree using the Tree\n",
    "\n"
   ]
  },
  {
   "cell_type": "code",
   "execution_count": 40,
   "metadata": {},
   "outputs": [],
   "source": [
    "# Create the rest of the tree using the TreeNode objects\n",
    "B = TreeNode(\"B\")\n",
    "C = TreeNode(\"C\")\n",
    "D = TreeNode(\"D\")\n",
    "E = TreeNode(\"E\")\n",
    "F = TreeNode(\"F\")\n",
    "G = TreeNode(\"G\")\n",
    "H = TreeNode(\"H\")\n",
    "I = TreeNode(\"I\")\n",
    "J = TreeNode(\"J\")\n",
    "K = TreeNode(\"K\")\n",
    "L = TreeNode(\"L\")\n",
    "\n",
    "root.left = B\n",
    "root.right = C\n",
    "B.left = D\n",
    "B.right = E\n",
    "C.left = F\n",
    "C.right = G\n",
    "D.left = H\n",
    "D.right = I\n",
    "E.left = J\n",
    "E.right = K\n",
    "F.left = L\n",
    "\n",
    "# Visualize the tree using the visualize_tree function\n",
    "digraph = visualize_tree(root)"
   ]
  },
  {
   "cell_type": "code",
   "execution_count": 41,
   "metadata": {},
   "outputs": [
    {
     "data": {
      "image/svg+xml": "<?xml version=\"1.0\" encoding=\"UTF-8\" standalone=\"no\"?>\n<!DOCTYPE svg PUBLIC \"-//W3C//DTD SVG 1.1//EN\"\n \"http://www.w3.org/Graphics/SVG/1.1/DTD/svg11.dtd\">\n<!-- Generated by graphviz version 6.0.2 (20221126.1951)\n -->\n<!-- Pages: 1 -->\n<svg width=\"404pt\" height=\"260pt\"\n viewBox=\"0.00 0.00 404.00 260.00\" xmlns=\"http://www.w3.org/2000/svg\" xmlns:xlink=\"http://www.w3.org/1999/xlink\">\n<g id=\"graph0\" class=\"graph\" transform=\"scale(1 1) rotate(0) translate(4 256)\">\n<polygon fill=\"white\" stroke=\"none\" points=\"-4,4 -4,-256 400,-256 400,4 -4,4\"/>\n<!-- A -->\n<g id=\"node1\" class=\"node\">\n<title>A</title>\n<ellipse fill=\"none\" stroke=\"black\" cx=\"225\" cy=\"-234\" rx=\"27\" ry=\"18\"/>\n<text text-anchor=\"middle\" x=\"225\" y=\"-230.3\" font-family=\"Times,serif\" font-size=\"14.00\">A</text>\n</g>\n<!-- B -->\n<g id=\"node2\" class=\"node\">\n<title>B</title>\n<ellipse fill=\"none\" stroke=\"black\" cx=\"189\" cy=\"-162\" rx=\"27\" ry=\"18\"/>\n<text text-anchor=\"middle\" x=\"189\" y=\"-158.3\" font-family=\"Times,serif\" font-size=\"14.00\">B</text>\n</g>\n<!-- A&#45;&gt;B -->\n<g id=\"edge1\" class=\"edge\">\n<title>A&#45;&gt;B</title>\n<path fill=\"none\" stroke=\"black\" d=\"M216.65,-216.76C212.29,-208.28 206.85,-197.71 201.96,-188.2\"/>\n<polygon fill=\"black\" stroke=\"black\" points=\"204.99,-186.44 197.3,-179.15 198.77,-189.64 204.99,-186.44\"/>\n</g>\n<!-- C -->\n<g id=\"node9\" class=\"node\">\n<title>C</title>\n<ellipse fill=\"none\" stroke=\"black\" cx=\"297\" cy=\"-162\" rx=\"27\" ry=\"18\"/>\n<text text-anchor=\"middle\" x=\"297\" y=\"-158.3\" font-family=\"Times,serif\" font-size=\"14.00\">C</text>\n</g>\n<!-- A&#45;&gt;C -->\n<g id=\"edge8\" class=\"edge\">\n<title>A&#45;&gt;C</title>\n<path fill=\"none\" stroke=\"black\" d=\"M239.57,-218.83C249.75,-208.94 263.52,-195.55 275.03,-184.36\"/>\n<polygon fill=\"black\" stroke=\"black\" points=\"277.47,-186.87 282.2,-177.38 272.59,-181.85 277.47,-186.87\"/>\n</g>\n<!-- D -->\n<g id=\"node3\" class=\"node\">\n<title>D</title>\n<ellipse fill=\"none\" stroke=\"black\" cx=\"99\" cy=\"-90\" rx=\"27\" ry=\"18\"/>\n<text text-anchor=\"middle\" x=\"99\" y=\"-86.3\" font-family=\"Times,serif\" font-size=\"14.00\">D</text>\n</g>\n<!-- B&#45;&gt;D -->\n<g id=\"edge2\" class=\"edge\">\n<title>B&#45;&gt;D</title>\n<path fill=\"none\" stroke=\"black\" d=\"M172.07,-147.83C158.5,-137.27 139.24,-122.3 123.91,-110.37\"/>\n<polygon fill=\"black\" stroke=\"black\" points=\"125.89,-107.48 115.85,-104.11 121.6,-113.01 125.89,-107.48\"/>\n</g>\n<!-- E -->\n<g id=\"node6\" class=\"node\">\n<title>E</title>\n<ellipse fill=\"none\" stroke=\"black\" cx=\"189\" cy=\"-90\" rx=\"27\" ry=\"18\"/>\n<text text-anchor=\"middle\" x=\"189\" y=\"-86.3\" font-family=\"Times,serif\" font-size=\"14.00\">E</text>\n</g>\n<!-- B&#45;&gt;E -->\n<g id=\"edge5\" class=\"edge\">\n<title>B&#45;&gt;E</title>\n<path fill=\"none\" stroke=\"black\" d=\"M189,-143.7C189,-135.98 189,-126.71 189,-118.11\"/>\n<polygon fill=\"black\" stroke=\"black\" points=\"192.5,-118.1 189,-108.1 185.5,-118.1 192.5,-118.1\"/>\n</g>\n<!-- H -->\n<g id=\"node4\" class=\"node\">\n<title>H</title>\n<ellipse fill=\"none\" stroke=\"black\" cx=\"27\" cy=\"-18\" rx=\"27\" ry=\"18\"/>\n<text text-anchor=\"middle\" x=\"27\" y=\"-14.3\" font-family=\"Times,serif\" font-size=\"14.00\">H</text>\n</g>\n<!-- D&#45;&gt;H -->\n<g id=\"edge3\" class=\"edge\">\n<title>D&#45;&gt;H</title>\n<path fill=\"none\" stroke=\"black\" d=\"M84.43,-74.83C74.25,-64.94 60.48,-51.55 48.97,-40.36\"/>\n<polygon fill=\"black\" stroke=\"black\" points=\"51.41,-37.85 41.8,-33.38 46.53,-42.87 51.41,-37.85\"/>\n</g>\n<!-- I -->\n<g id=\"node5\" class=\"node\">\n<title>I</title>\n<ellipse fill=\"none\" stroke=\"black\" cx=\"99\" cy=\"-18\" rx=\"27\" ry=\"18\"/>\n<text text-anchor=\"middle\" x=\"99\" y=\"-14.3\" font-family=\"Times,serif\" font-size=\"14.00\">I</text>\n</g>\n<!-- D&#45;&gt;I -->\n<g id=\"edge4\" class=\"edge\">\n<title>D&#45;&gt;I</title>\n<path fill=\"none\" stroke=\"black\" d=\"M99,-71.7C99,-63.98 99,-54.71 99,-46.11\"/>\n<polygon fill=\"black\" stroke=\"black\" points=\"102.5,-46.1 99,-36.1 95.5,-46.1 102.5,-46.1\"/>\n</g>\n<!-- J -->\n<g id=\"node7\" class=\"node\">\n<title>J</title>\n<ellipse fill=\"none\" stroke=\"black\" cx=\"171\" cy=\"-18\" rx=\"27\" ry=\"18\"/>\n<text text-anchor=\"middle\" x=\"171\" y=\"-14.3\" font-family=\"Times,serif\" font-size=\"14.00\">J</text>\n</g>\n<!-- E&#45;&gt;J -->\n<g id=\"edge6\" class=\"edge\">\n<title>E&#45;&gt;J</title>\n<path fill=\"none\" stroke=\"black\" d=\"M184.64,-72.05C182.61,-64.14 180.14,-54.54 177.86,-45.69\"/>\n<polygon fill=\"black\" stroke=\"black\" points=\"181.2,-44.6 175.32,-35.79 174.42,-46.35 181.2,-44.6\"/>\n</g>\n<!-- K -->\n<g id=\"node8\" class=\"node\">\n<title>K</title>\n<ellipse fill=\"none\" stroke=\"black\" cx=\"243\" cy=\"-18\" rx=\"27\" ry=\"18\"/>\n<text text-anchor=\"middle\" x=\"243\" y=\"-14.3\" font-family=\"Times,serif\" font-size=\"14.00\">K</text>\n</g>\n<!-- E&#45;&gt;K -->\n<g id=\"edge7\" class=\"edge\">\n<title>E&#45;&gt;K</title>\n<path fill=\"none\" stroke=\"black\" d=\"M200.98,-73.46C207.98,-64.4 216.94,-52.79 224.79,-42.61\"/>\n<polygon fill=\"black\" stroke=\"black\" points=\"227.71,-44.55 231.05,-34.49 222.17,-40.27 227.71,-44.55\"/>\n</g>\n<!-- F -->\n<g id=\"node10\" class=\"node\">\n<title>F</title>\n<ellipse fill=\"none\" stroke=\"black\" cx=\"297\" cy=\"-90\" rx=\"27\" ry=\"18\"/>\n<text text-anchor=\"middle\" x=\"297\" y=\"-86.3\" font-family=\"Times,serif\" font-size=\"14.00\">F</text>\n</g>\n<!-- C&#45;&gt;F -->\n<g id=\"edge9\" class=\"edge\">\n<title>C&#45;&gt;F</title>\n<path fill=\"none\" stroke=\"black\" d=\"M297,-143.7C297,-135.98 297,-126.71 297,-118.11\"/>\n<polygon fill=\"black\" stroke=\"black\" points=\"300.5,-118.1 297,-108.1 293.5,-118.1 300.5,-118.1\"/>\n</g>\n<!-- G -->\n<g id=\"node12\" class=\"node\">\n<title>G</title>\n<ellipse fill=\"none\" stroke=\"black\" cx=\"369\" cy=\"-90\" rx=\"27\" ry=\"18\"/>\n<text text-anchor=\"middle\" x=\"369\" y=\"-86.3\" font-family=\"Times,serif\" font-size=\"14.00\">G</text>\n</g>\n<!-- C&#45;&gt;G -->\n<g id=\"edge11\" class=\"edge\">\n<title>C&#45;&gt;G</title>\n<path fill=\"none\" stroke=\"black\" d=\"M311.57,-146.83C321.75,-136.94 335.52,-123.55 347.03,-112.36\"/>\n<polygon fill=\"black\" stroke=\"black\" points=\"349.47,-114.87 354.2,-105.38 344.59,-109.85 349.47,-114.87\"/>\n</g>\n<!-- L -->\n<g id=\"node11\" class=\"node\">\n<title>L</title>\n<ellipse fill=\"none\" stroke=\"black\" cx=\"315\" cy=\"-18\" rx=\"27\" ry=\"18\"/>\n<text text-anchor=\"middle\" x=\"315\" y=\"-14.3\" font-family=\"Times,serif\" font-size=\"14.00\">L</text>\n</g>\n<!-- F&#45;&gt;L -->\n<g id=\"edge10\" class=\"edge\">\n<title>F&#45;&gt;L</title>\n<path fill=\"none\" stroke=\"black\" d=\"M301.36,-72.05C303.39,-64.14 305.86,-54.54 308.14,-45.69\"/>\n<polygon fill=\"black\" stroke=\"black\" points=\"311.58,-46.35 310.68,-35.79 304.8,-44.6 311.58,-46.35\"/>\n</g>\n</g>\n</svg>\n",
      "text/plain": [
       "<graphviz.graphs.Digraph at 0x7faf9a56bd90>"
      ]
     },
     "execution_count": 41,
     "metadata": {},
     "output_type": "execute_result"
    }
   ],
   "source": [
    "digraph"
   ]
  },
  {
   "cell_type": "code",
   "execution_count": 44,
   "metadata": {},
   "outputs": [
    {
     "name": "stdout",
     "output_type": "stream",
     "text": [
      "Preorder: ['A', 'B', 'D', 'H', 'I', 'E', 'J', 'K', 'C', 'F', 'L', 'G']\n",
      "Inorder: ['H', 'D', 'I', 'B', 'J', 'E', 'K', 'A', 'L', 'F', 'C', 'G']\n",
      "Postorder: ['H', 'I', 'D', 'J', 'K', 'E', 'B', 'L', 'F', 'G', 'C', 'A']\n"
     ]
    }
   ],
   "source": [
    "trans= display_transversals((root))"
   ]
  },
  {
   "cell_type": "code",
   "execution_count": 15,
   "metadata": {},
   "outputs": [],
   "source": []
  }
 ],
 "metadata": {
  "kernelspec": {
   "display_name": "Python 3.9.13 ('torch')",
   "language": "python",
   "name": "python3"
  },
  "language_info": {
   "codemirror_mode": {
    "name": "ipython",
    "version": 3
   },
   "file_extension": ".py",
   "mimetype": "text/x-python",
   "name": "python",
   "nbconvert_exporter": "python",
   "pygments_lexer": "ipython3",
   "version": "3.9.13 | packaged by conda-forge | (main, May 27 2022, 16:58:50) \n[GCC 10.3.0]"
  },
  "orig_nbformat": 4,
  "vscode": {
   "interpreter": {
    "hash": "71a3468136264f0b0d7556c549f6bb0813fce7ff26312333e72b8f960e346fd3"
   }
  }
 },
 "nbformat": 4,
 "nbformat_minor": 2
}
