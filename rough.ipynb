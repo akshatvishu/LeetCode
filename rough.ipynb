{
 "cells": [
  {
   "cell_type": "code",
   "execution_count": 4,
   "metadata": {},
   "outputs": [
    {
     "name": "stdout",
     "output_type": "stream",
     "text": [
      "[1, 2, 6, 4]\n"
     ]
    }
   ],
   "source": [
    "s = [1,2,6,4]\n",
    "\n",
    "print(f'{s}',)"
   ]
  },
  {
   "cell_type": "code",
   "execution_count": 5,
   "metadata": {},
   "outputs": [],
   "source": [
    "class TreeNode:\n",
    "    def __init__(self, val=0, left=None, right=None):\n",
    "        self.val = val\n",
    "        self.left = left\n",
    "        self.right = right\n",
    "\n",
    "\n",
    "\n",
    "## Monotonic Stack : \n",
    "# Build the tree by iterating the array while maintaining subtrees in a monotonic stack.\n",
    "\n",
    "\n",
    "\n",
    "\n"
   ]
  },
  {
   "cell_type": "code",
   "execution_count": 6,
   "metadata": {},
   "outputs": [
    {
     "ename": "SyntaxError",
     "evalue": "invalid syntax (2934284472.py, line 1)",
     "output_type": "error",
     "traceback": [
      "\u001b[0;36m  Cell \u001b[0;32mIn [6], line 1\u001b[0;36m\u001b[0m\n\u001b[0;31m    **()\u001b[0m\n\u001b[0m    ^\u001b[0m\n\u001b[0;31mSyntaxError\u001b[0m\u001b[0;31m:\u001b[0m invalid syntax\n"
     ]
    }
   ],
   "source": [
    "/**\n",
    " * Definition for a binary tree node.\n",
    " * public class TreeNode {\n",
    " *     int val;\n",
    " *     TreeNode left;\n",
    " *     TreeNode right;\n",
    " *     TreeNode() {}\n",
    " *     TreeNode(int val) { this.val = val; }\n",
    " *     TreeNode(int val, TreeNode left, TreeNode right) {\n",
    " *         this.val = val;\n",
    " *         this.left = left;\n",
    " *         this.right = right;\n",
    " *     }\n",
    " * }\n",
    " */\n",
    "class Solution {\n",
    "\n",
    "    /** \n",
    "        This problem has been asked in below companies:\n",
    "        Amazon\n",
    "        Microsoft\n",
    "\n",
    "    */\n",
    "\n",
    "    /** \n",
    "        The intuition is to use monotonic stack. \n",
    "        To maintain a decreasing order stack, in the decreasing order we will connect each node on the right of the\n",
    "        top element in stack.\n",
    "\n",
    "        Whenever we find a greater value we will start to pop element from stack and connect the popped element\n",
    "        on the left of the current element, we will be doing this process untill we found a grater element in the stack\n",
    "\n",
    "        once we are done with traversing the array, we need to return the most bottom element in the stack\n",
    "\n",
    "        Time complexity: O(n)\n",
    "        Space complexity: O(n)\n",
    "\n",
    "    */\n",
    "\n",
    "\n",
    "    public TreeNode constructMaximumBinaryTree(int[] nums) {\n",
    "\n",
    "        // to store the node in decreasing order\n",
    "        Stack<TreeNode> stack = new Stack<>();\n",
    "\n",
    "        // traverse the array\n",
    "        for(int num : nums) {\n",
    "            // create a new node\n",
    "            TreeNode node = new TreeNode(num);\n",
    "\n",
    "            // check the stack is not empty and current element is greater than \n",
    "            // the top element in the stack \n",
    "            // if yes then pop the node and connect to the right of the current node\n",
    "            while(!stack.isEmpty() && stack.peek().val < num) {\n",
    "                TreeNode temp = stack.pop();\n",
    "                node.left = temp;\n",
    "            }\n",
    "\n",
    "            // if the stack is not empty\n",
    "            // meaning the current element is less than the top element in the stack\n",
    "            // so connect the curre node in the right of the top element node in the stack\n",
    "            if(!stack.isEmpty()) stack.peek().right = node;\n",
    "\n",
    "            // add the current node in the stack\n",
    "            stack.push(node);\n",
    "        }\n",
    "\n",
    "        // return the most bottom element in the stack\n",
    "        return stack.firstElement();\n",
    "        \n",
    "    }\n",
    "}"
   ]
  },
  {
   "cell_type": "code",
   "execution_count": null,
   "metadata": {},
   "outputs": [
    {
     "name": "stdout",
     "output_type": "stream",
     "text": [
      "the nums list is = [1, 2, 0, 5, 1]\n",
      "the last value at the moment isNone\n",
      " if last = 1\n",
      "value at last= 1\n",
      " if last = 2\n",
      "if stk = 2\n",
      " if last = 2\n",
      "value at last= 2\n",
      " if last = 5\n",
      "if stk = 5\n",
      " if last = 5\n"
     ]
    },
    {
     "data": {
      "text/plain": [
       "<__main__.TreeNode at 0x7ff7f023e6d0>"
      ]
     },
     "execution_count": 5,
     "metadata": {},
     "output_type": "execute_result"
    }
   ],
   "source": [
    "x = Solution()\n",
    "x.constructMaximumBinaryTree(nums=[1,2,0,5,1])"
   ]
  },
  {
   "cell_type": "code",
   "execution_count": null,
   "metadata": {},
   "outputs": [],
   "source": [
    "def constructMaximumBinaryTree(self, nums: List[int]) -> TreeNode:\n",
    "\tstack = []\n",
    "\n",
    "\tfor x in nums:\n",
    "\t\tn = TreeNode(x)\n",
    "\t\t# if stack[-1] is less than x, then pop stack[-1] and set n.left to it\n",
    "\t\twhile stack and x > stack[-1].val:\n",
    "\t\t\tn.left = stack.pop()\n",
    "\n",
    "\t\t# if stack[-1] is greater than x, then set n to stack[-1].right\n",
    "\t\tif stack:\n",
    "\t\t\tstack[-1].right = n               \n",
    "\t\tstack.append(n)\n",
    "\n",
    "\treturn stack[0]"
   ]
  },
  {
   "cell_type": "code",
   "execution_count": 8,
   "metadata": {},
   "outputs": [
    {
     "data": {
      "text/plain": [
       "3"
      ]
     },
     "execution_count": 8,
     "metadata": {},
     "output_type": "execute_result"
    }
   ],
   "source": [
    "s = [1,2,3]\n",
    "\n",
    "s.pop()"
   ]
  },
  {
   "cell_type": "code",
   "execution_count": null,
   "metadata": {},
   "outputs": [],
   "source": [
    "     class Solution:\n",
    "def largestValues(self, root: Optional[TreeNode]) -> List[int]:\n",
    "    if not root:\n",
    "        return []\n",
    "    q=[root]\n",
    "    ans=[]\n",
    "    while q:\n",
    "        mx=-float('inf')\n",
    "        for i in range(len(q)):\n",
    "            node=q.pop(0)\n",
    "            if node.val>mx:\n",
    "                mx=node.val\n",
    "            if node.left:\n",
    "                q.append(node.left)\n",
    "            if node.right:\n",
    "                q.append(node.right)\n",
    "        ans.append(mx)\n",
    "    return ans"
   ]
  },
  {
   "cell_type": "code",
   "execution_count": null,
   "metadata": {},
   "outputs": [],
   "source": [
    "class Solution(object):\n",
    "    def largestValues(self, root):\n",
    "        ans = []\n",
    "        if root is None:\n",
    "            return ans\n",
    "        queue  = [root]\n",
    "        while queue:\n",
    "            ans.append(max(x.val for x in queue))\n",
    "            new_queue = []\n",
    "            for node in queue:\n",
    "                if node.left:\n",
    "                    new_queue.append(node.left)\n",
    "                if node.right:\n",
    "                    new_queue.append(node.right)\n",
    "            queue = new_queue\n",
    "        return ans\n",
    "\n",
    "class Solution(object):\n",
    "    def largestValues(self, root):\n",
    "        self.ans = []\n",
    "        self.helper(root, 0)\n",
    "        return self.ans\n",
    "    \n",
    "    def helper(self, node, level):\n",
    "        if not node:\n",
    "            return\n",
    "        if len(self.ans) == level:\n",
    "            self.ans.append(node.val)\n",
    "        else:\n",
    "            self.ans[level] = max(self.ans[level], node.val)\n",
    "        self.helper(node.left, level+1)\n",
    "        self.helper(node.right, level+1)"
   ]
  },
  {
   "cell_type": "code",
   "execution_count": null,
   "metadata": {},
   "outputs": [],
   "source": [
    "        \n",
    "        ans = []\n",
    "        \n",
    "        q = deque([root])\n",
    "        \n",
    "        if root:\n",
    "        \n",
    "            while q:\n",
    "\n",
    "                cur_max = -float('inf')\n",
    "\n",
    "                for _ in range(len(q)):\n",
    "\n",
    "                    cur = q.popleft()\n",
    "\n",
    "                    cur_max = max(cur.val,cur_max)\n",
    "\n",
    "                    if cur.left:\n",
    "                        q.append(cur.left)\n",
    "                    if cur.right:\n",
    "                        q.append(cur.right)\n",
    "\n",
    "                ans.append(cur_max)\n",
    "\n",
    "        return ans"
   ]
  },
  {
   "cell_type": "code",
   "execution_count": null,
   "metadata": {},
   "outputs": [],
   "source": []
  }
 ],
 "metadata": {
  "kernelspec": {
   "display_name": "Python 3.9.13 ('torch')",
   "language": "python",
   "name": "python3"
  },
  "language_info": {
   "codemirror_mode": {
    "name": "ipython",
    "version": 3
   },
   "file_extension": ".py",
   "mimetype": "text/x-python",
   "name": "python",
   "nbconvert_exporter": "python",
   "pygments_lexer": "ipython3",
   "version": "3.9.13"
  },
  "orig_nbformat": 4,
  "vscode": {
   "interpreter": {
    "hash": "71a3468136264f0b0d7556c549f6bb0813fce7ff26312333e72b8f960e346fd3"
   }
  }
 },
 "nbformat": 4,
 "nbformat_minor": 2
}
