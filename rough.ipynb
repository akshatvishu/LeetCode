{
 "cells": [
  {
   "cell_type": "code",
   "execution_count": 4,
   "metadata": {},
   "outputs": [
    {
     "name": "stdout",
     "output_type": "stream",
     "text": [
      "[1, 2, 6, 4]\n"
     ]
    }
   ],
   "source": [
    "s = [1,2,6,4]\n",
    "\n",
    "print(f'{s}',)"
   ]
  },
  {
   "cell_type": "code",
   "execution_count": 5,
   "metadata": {},
   "outputs": [],
   "source": [
    "class TreeNode:\n",
    "    def __init__(self, val=0, left=None, right=None):\n",
    "        self.val = val\n",
    "        self.left = left\n",
    "        self.right = right\n",
    "\n",
    "\n",
    "\n",
    "## Monotonic Stack : \n",
    "# Build the tree by iterating the array while maintaining subtrees in a monotonic stack.\n",
    "\n",
    "\n",
    "\n",
    "\n"
   ]
  },
  {
   "cell_type": "code",
   "execution_count": 6,
   "metadata": {},
   "outputs": [
    {
     "ename": "SyntaxError",
     "evalue": "invalid syntax (2934284472.py, line 1)",
     "output_type": "error",
     "traceback": [
      "\u001b[0;36m  Cell \u001b[0;32mIn [6], line 1\u001b[0;36m\u001b[0m\n\u001b[0;31m    **()\u001b[0m\n\u001b[0m    ^\u001b[0m\n\u001b[0;31mSyntaxError\u001b[0m\u001b[0;31m:\u001b[0m invalid syntax\n"
     ]
    }
   ],
   "source": [
    "/**\n",
    " * Definition for a binary tree node.\n",
    " * public class TreeNode {\n",
    " *     int val;\n",
    " *     TreeNode left;\n",
    " *     TreeNode right;\n",
    " *     TreeNode() {}\n",
    " *     TreeNode(int val) { this.val = val; }\n",
    " *     TreeNode(int val, TreeNode left, TreeNode right) {\n",
    " *         this.val = val;\n",
    " *         this.left = left;\n",
    " *         this.right = right;\n",
    " *     }\n",
    " * }\n",
    " */\n",
    "class Solution {\n",
    "\n",
    "    /** \n",
    "        This problem has been asked in below companies:\n",
    "        Amazon\n",
    "        Microsoft\n",
    "\n",
    "    */\n",
    "\n",
    "    /** \n",
    "        The intuition is to use monotonic stack. \n",
    "        To maintain a decreasing order stack, in the decreasing order we will connect each node on the right of the\n",
    "        top element in stack.\n",
    "\n",
    "        Whenever we find a greater value we will start to pop element from stack and connect the popped element\n",
    "        on the left of the current element, we will be doing this process untill we found a grater element in the stack\n",
    "\n",
    "        once we are done with traversing the array, we need to return the most bottom element in the stack\n",
    "\n",
    "        Time complexity: O(n)\n",
    "        Space complexity: O(n)\n",
    "\n",
    "    */\n",
    "\n",
    "\n",
    "    public TreeNode constructMaximumBinaryTree(int[] nums) {\n",
    "\n",
    "        // to store the node in decreasing order\n",
    "        Stack<TreeNode> stack = new Stack<>();\n",
    "\n",
    "        // traverse the array\n",
    "        for(int num : nums) {\n",
    "            // create a new node\n",
    "            TreeNode node = new TreeNode(num);\n",
    "\n",
    "            // check the stack is not empty and current element is greater than \n",
    "            // the top element in the stack \n",
    "            // if yes then pop the node and connect to the right of the current node\n",
    "            while(!stack.isEmpty() && stack.peek().val < num) {\n",
    "                TreeNode temp = stack.pop();\n",
    "                node.left = temp;\n",
    "            }\n",
    "\n",
    "            // if the stack is not empty\n",
    "            // meaning the current element is less than the top element in the stack\n",
    "            // so connect the curre node in the right of the top element node in the stack\n",
    "            if(!stack.isEmpty()) stack.peek().right = node;\n",
    "\n",
    "            // add the current node in the stack\n",
    "            stack.push(node);\n",
    "        }\n",
    "\n",
    "        // return the most bottom element in the stack\n",
    "        return stack.firstElement();\n",
    "        \n",
    "    }\n",
    "}"
   ]
  },
  {
   "cell_type": "code",
   "execution_count": null,
   "metadata": {},
   "outputs": [
    {
     "name": "stdout",
     "output_type": "stream",
     "text": [
      "the nums list is = [1, 2, 0, 5, 1]\n",
      "the last value at the moment isNone\n",
      " if last = 1\n",
      "value at last= 1\n",
      " if last = 2\n",
      "if stk = 2\n",
      " if last = 2\n",
      "value at last= 2\n",
      " if last = 5\n",
      "if stk = 5\n",
      " if last = 5\n"
     ]
    },
    {
     "data": {
      "text/plain": [
       "<__main__.TreeNode at 0x7ff7f023e6d0>"
      ]
     },
     "execution_count": 5,
     "metadata": {},
     "output_type": "execute_result"
    }
   ],
   "source": [
    "x = Solution()\n",
    "x.constructMaximumBinaryTree(nums=[1,2,0,5,1])"
   ]
  },
  {
   "cell_type": "code",
   "execution_count": null,
   "metadata": {},
   "outputs": [],
   "source": [
    "def constructMaximumBinaryTree(self, nums: List[int]) -> TreeNode:\n",
    "\tstack = []\n",
    "\n",
    "\tfor x in nums:\n",
    "\t\tn = TreeNode(x)\n",
    "\t\t# if stack[-1] is less than x, then pop stack[-1] and set n.left to it\n",
    "\t\twhile stack and x > stack[-1].val:\n",
    "\t\t\tn.left = stack.pop()\n",
    "\n",
    "\t\t# if stack[-1] is greater than x, then set n to stack[-1].right\n",
    "\t\tif stack:\n",
    "\t\t\tstack[-1].right = n               \n",
    "\t\tstack.append(n)\n",
    "\n",
    "\treturn stack[0]"
   ]
  },
  {
   "cell_type": "code",
   "execution_count": 8,
   "metadata": {},
   "outputs": [
    {
     "data": {
      "text/plain": [
       "3"
      ]
     },
     "execution_count": 8,
     "metadata": {},
     "output_type": "execute_result"
    }
   ],
   "source": [
    "s = [1,2,3]\n",
    "\n",
    "s.pop()"
   ]
  },
  {
   "cell_type": "code",
   "execution_count": null,
   "metadata": {},
   "outputs": [],
   "source": [
    "     class Solution:\n",
    "def largestValues(self, root: Optional[TreeNode]) -> List[int]:\n",
    "    if not root:\n",
    "        return []\n",
    "    q=[root]\n",
    "    ans=[]\n",
    "    while q:\n",
    "        mx=-float('inf')\n",
    "        for i in range(len(q)):\n",
    "            node=q.pop(0)\n",
    "            if node.val>mx:\n",
    "                mx=node.val\n",
    "            if node.left:\n",
    "                q.append(node.left)\n",
    "            if node.right:\n",
    "                q.append(node.right)\n",
    "        ans.append(mx)\n",
    "    return ans"
   ]
  },
  {
   "cell_type": "code",
   "execution_count": null,
   "metadata": {},
   "outputs": [],
   "source": [
    "class Solution(object):\n",
    "    def largestValues(self, root):\n",
    "        ans = []\n",
    "        if root is None:\n",
    "            return ans\n",
    "        queue  = [root]\n",
    "        while queue:\n",
    "            ans.append(max(x.val for x in queue))\n",
    "            new_queue = []\n",
    "            for node in queue:\n",
    "                if node.left:\n",
    "                    new_queue.append(node.left)\n",
    "                if node.right:\n",
    "                    new_queue.append(node.right)\n",
    "            queue = new_queue\n",
    "        return ans\n",
    "\n",
    "class Solution(object):\n",
    "    def largestValues(self, root):\n",
    "        self.ans = []\n",
    "        self.helper(root, 0)\n",
    "        return self.ans\n",
    "    \n",
    "    def helper(self, node, level):\n",
    "        if not node:\n",
    "            return\n",
    "        if len(self.ans) == level:\n",
    "            self.ans.append(node.val)\n",
    "        else:\n",
    "            self.ans[level] = max(self.ans[level], node.val)\n",
    "        self.helper(node.left, level+1)\n",
    "        self.helper(node.right, level+1)"
   ]
  },
  {
   "cell_type": "code",
   "execution_count": null,
   "metadata": {},
   "outputs": [],
   "source": [
    "        \n",
    "        ans = []\n",
    "        \n",
    "        q = deque([root])\n",
    "        \n",
    "        if root:\n",
    "        \n",
    "            while q:\n",
    "\n",
    "                cur_max = -float('inf')\n",
    "\n",
    "                for _ in range(len(q)):\n",
    "\n",
    "                    cur = q.popleft()\n",
    "\n",
    "                    cur_max = max(cur.val,cur_max)\n",
    "\n",
    "                    if cur.left:\n",
    "                        q.append(cur.left)\n",
    "                    if cur.right:\n",
    "                        q.append(cur.right)\n",
    "\n",
    "                ans.append(cur_max)\n",
    "\n",
    "        return ans"
   ]
  },
  {
   "cell_type": "code",
   "execution_count": 39,
   "metadata": {},
   "outputs": [],
   "source": [
    "# Import the graphviz library\n",
    "import graphviz\n",
    "\n",
    "# Define a TreeNode class to represent a single node in the tree\n",
    "class TreeNode:\n",
    "    def __init__(self, val):\n",
    "        self.val = val\n",
    "        self.left = None\n",
    "        self.right = None\n",
    "\n",
    "# Define a function to visualize a binary tree\n",
    "def visualize_tree(root):\n",
    "    # Create a Graphviz Digraph object\n",
    "    digraph = graphviz.Digraph()\n",
    "\n",
    "    # Define a recursive function to add the nodes and edges of the tree to the Digraph\n",
    "    def add_nodes_and_edges(node, parent):\n",
    "        # Add the current node to the Digraph\n",
    "        digraph.node(node.val, label=node.val)\n",
    "\n",
    "        # If the current node has a parent, add an edge between the parent and the current node\n",
    "        if parent is not None:\n",
    "            digraph.edge(parent.val, node.val)\n",
    "\n",
    "        # If the current node has a left child, recursively call the function on the left child\n",
    "        if node.left is not None:\n",
    "            add_nodes_and_edges(node.left, node)\n",
    "\n",
    "        # If the current node has a right child, recursively call the function on the right child\n",
    "        if node.right is not None:\n",
    "            add_nodes_and_edges(node.right, node)\n",
    "\n",
    "    # Call the recursive function on the root of the tree, with no parent\n",
    "    add_nodes_and_edges(root, None)\n",
    "\n",
    "    # Return the Digraph object\n",
    "    return digraph\n",
    "\n",
    "# Define a function to display the preorder, inorder, and postorder transversal of a binary tree\n",
    "def display_transversals(root):\n",
    "    def postOrder(root, traversal):\n",
    "        if root:\n",
    "            postOrder(root.left, traversal)\n",
    "            postOrder(root.right, traversal)\n",
    "            traversal.append(root.val)\n",
    "        \n",
    "    \n",
    "    def inOrder(root, traversal):\n",
    "        if root:\n",
    "            inOrder(root.left, traversal)\n",
    "            traversal.append(root.val)\n",
    "            inOrder(root.right, traversal)\n",
    "        \n",
    "    def preOrder(root, traversal):\n",
    "        if root:\n",
    "            traversal.append(root.val)\n",
    "            preOrder(root.left, traversal)\n",
    "            preOrder(root.right, traversal)\n",
    "            \n",
    "    preorder = []\n",
    "    inorder = []\n",
    "    postorder = []\n",
    "    # Traverse the tree using each transversal method \n",
    "    # and store the values in the corresponding list\n",
    "    preOrder(root, preorder)\n",
    "    postOrder(root, postorder)\n",
    "    inOrder(root, inorder)\n",
    "    \n",
    "    # Print the transversal lists\n",
    "    print(\"Preorder:\", preorder)\n",
    "    print(\"Inorder:\", inorder)\n",
    "    print(\"Postorder:\", postorder)\n",
    "\n",
    "# Create a TreeNode object for the root of the tree\n",
    "root = TreeNode(\"A\")\n",
    "\n",
    "# Create the rest of the tree using the Tree\n",
    "\n"
   ]
  },
  {
   "cell_type": "code",
   "execution_count": 40,
   "metadata": {},
   "outputs": [],
   "source": [
    "# Create the rest of the tree using the TreeNode objects\n",
    "B = TreeNode(\"B\")\n",
    "C = TreeNode(\"C\")\n",
    "D = TreeNode(\"D\")\n",
    "E = TreeNode(\"E\")\n",
    "F = TreeNode(\"F\")\n",
    "G = TreeNode(\"G\")\n",
    "H = TreeNode(\"H\")\n",
    "I = TreeNode(\"I\")\n",
    "J = TreeNode(\"J\")\n",
    "K = TreeNode(\"K\")\n",
    "L = TreeNode(\"L\")\n",
    "\n",
    "root.left = B\n",
    "root.right = C\n",
    "B.left = D\n",
    "B.right = E\n",
    "C.left = F\n",
    "C.right = G\n",
    "D.left = H\n",
    "D.right = I\n",
    "E.left = J\n",
    "E.right = K\n",
    "F.left = L\n",
    "\n",
    "# Visualize the tree using the visualize_tree function\n",
    "digraph = visualize_tree(root)"
   ]
  },
  {
   "cell_type": "code",
   "execution_count": 41,
   "metadata": {},
   "outputs": [
    {
     "data": {
      "image/svg+xml": "<?xml version=\"1.0\" encoding=\"UTF-8\" standalone=\"no\"?>\n<!DOCTYPE svg PUBLIC \"-//W3C//DTD SVG 1.1//EN\"\n \"http://www.w3.org/Graphics/SVG/1.1/DTD/svg11.dtd\">\n<!-- Generated by graphviz version 6.0.2 (20221126.1951)\n -->\n<!-- Pages: 1 -->\n<svg width=\"404pt\" height=\"260pt\"\n viewBox=\"0.00 0.00 404.00 260.00\" xmlns=\"http://www.w3.org/2000/svg\" xmlns:xlink=\"http://www.w3.org/1999/xlink\">\n<g id=\"graph0\" class=\"graph\" transform=\"scale(1 1) rotate(0) translate(4 256)\">\n<polygon fill=\"white\" stroke=\"none\" points=\"-4,4 -4,-256 400,-256 400,4 -4,4\"/>\n<!-- A -->\n<g id=\"node1\" class=\"node\">\n<title>A</title>\n<ellipse fill=\"none\" stroke=\"black\" cx=\"225\" cy=\"-234\" rx=\"27\" ry=\"18\"/>\n<text text-anchor=\"middle\" x=\"225\" y=\"-230.3\" font-family=\"Times,serif\" font-size=\"14.00\">A</text>\n</g>\n<!-- B -->\n<g id=\"node2\" class=\"node\">\n<title>B</title>\n<ellipse fill=\"none\" stroke=\"black\" cx=\"189\" cy=\"-162\" rx=\"27\" ry=\"18\"/>\n<text text-anchor=\"middle\" x=\"189\" y=\"-158.3\" font-family=\"Times,serif\" font-size=\"14.00\">B</text>\n</g>\n<!-- A&#45;&gt;B -->\n<g id=\"edge1\" class=\"edge\">\n<title>A&#45;&gt;B</title>\n<path fill=\"none\" stroke=\"black\" d=\"M216.65,-216.76C212.29,-208.28 206.85,-197.71 201.96,-188.2\"/>\n<polygon fill=\"black\" stroke=\"black\" points=\"204.99,-186.44 197.3,-179.15 198.77,-189.64 204.99,-186.44\"/>\n</g>\n<!-- C -->\n<g id=\"node9\" class=\"node\">\n<title>C</title>\n<ellipse fill=\"none\" stroke=\"black\" cx=\"297\" cy=\"-162\" rx=\"27\" ry=\"18\"/>\n<text text-anchor=\"middle\" x=\"297\" y=\"-158.3\" font-family=\"Times,serif\" font-size=\"14.00\">C</text>\n</g>\n<!-- A&#45;&gt;C -->\n<g id=\"edge8\" class=\"edge\">\n<title>A&#45;&gt;C</title>\n<path fill=\"none\" stroke=\"black\" d=\"M239.57,-218.83C249.75,-208.94 263.52,-195.55 275.03,-184.36\"/>\n<polygon fill=\"black\" stroke=\"black\" points=\"277.47,-186.87 282.2,-177.38 272.59,-181.85 277.47,-186.87\"/>\n</g>\n<!-- D -->\n<g id=\"node3\" class=\"node\">\n<title>D</title>\n<ellipse fill=\"none\" stroke=\"black\" cx=\"99\" cy=\"-90\" rx=\"27\" ry=\"18\"/>\n<text text-anchor=\"middle\" x=\"99\" y=\"-86.3\" font-family=\"Times,serif\" font-size=\"14.00\">D</text>\n</g>\n<!-- B&#45;&gt;D -->\n<g id=\"edge2\" class=\"edge\">\n<title>B&#45;&gt;D</title>\n<path fill=\"none\" stroke=\"black\" d=\"M172.07,-147.83C158.5,-137.27 139.24,-122.3 123.91,-110.37\"/>\n<polygon fill=\"black\" stroke=\"black\" points=\"125.89,-107.48 115.85,-104.11 121.6,-113.01 125.89,-107.48\"/>\n</g>\n<!-- E -->\n<g id=\"node6\" class=\"node\">\n<title>E</title>\n<ellipse fill=\"none\" stroke=\"black\" cx=\"189\" cy=\"-90\" rx=\"27\" ry=\"18\"/>\n<text text-anchor=\"middle\" x=\"189\" y=\"-86.3\" font-family=\"Times,serif\" font-size=\"14.00\">E</text>\n</g>\n<!-- B&#45;&gt;E -->\n<g id=\"edge5\" class=\"edge\">\n<title>B&#45;&gt;E</title>\n<path fill=\"none\" stroke=\"black\" d=\"M189,-143.7C189,-135.98 189,-126.71 189,-118.11\"/>\n<polygon fill=\"black\" stroke=\"black\" points=\"192.5,-118.1 189,-108.1 185.5,-118.1 192.5,-118.1\"/>\n</g>\n<!-- H -->\n<g id=\"node4\" class=\"node\">\n<title>H</title>\n<ellipse fill=\"none\" stroke=\"black\" cx=\"27\" cy=\"-18\" rx=\"27\" ry=\"18\"/>\n<text text-anchor=\"middle\" x=\"27\" y=\"-14.3\" font-family=\"Times,serif\" font-size=\"14.00\">H</text>\n</g>\n<!-- D&#45;&gt;H -->\n<g id=\"edge3\" class=\"edge\">\n<title>D&#45;&gt;H</title>\n<path fill=\"none\" stroke=\"black\" d=\"M84.43,-74.83C74.25,-64.94 60.48,-51.55 48.97,-40.36\"/>\n<polygon fill=\"black\" stroke=\"black\" points=\"51.41,-37.85 41.8,-33.38 46.53,-42.87 51.41,-37.85\"/>\n</g>\n<!-- I -->\n<g id=\"node5\" class=\"node\">\n<title>I</title>\n<ellipse fill=\"none\" stroke=\"black\" cx=\"99\" cy=\"-18\" rx=\"27\" ry=\"18\"/>\n<text text-anchor=\"middle\" x=\"99\" y=\"-14.3\" font-family=\"Times,serif\" font-size=\"14.00\">I</text>\n</g>\n<!-- D&#45;&gt;I -->\n<g id=\"edge4\" class=\"edge\">\n<title>D&#45;&gt;I</title>\n<path fill=\"none\" stroke=\"black\" d=\"M99,-71.7C99,-63.98 99,-54.71 99,-46.11\"/>\n<polygon fill=\"black\" stroke=\"black\" points=\"102.5,-46.1 99,-36.1 95.5,-46.1 102.5,-46.1\"/>\n</g>\n<!-- J -->\n<g id=\"node7\" class=\"node\">\n<title>J</title>\n<ellipse fill=\"none\" stroke=\"black\" cx=\"171\" cy=\"-18\" rx=\"27\" ry=\"18\"/>\n<text text-anchor=\"middle\" x=\"171\" y=\"-14.3\" font-family=\"Times,serif\" font-size=\"14.00\">J</text>\n</g>\n<!-- E&#45;&gt;J -->\n<g id=\"edge6\" class=\"edge\">\n<title>E&#45;&gt;J</title>\n<path fill=\"none\" stroke=\"black\" d=\"M184.64,-72.05C182.61,-64.14 180.14,-54.54 177.86,-45.69\"/>\n<polygon fill=\"black\" stroke=\"black\" points=\"181.2,-44.6 175.32,-35.79 174.42,-46.35 181.2,-44.6\"/>\n</g>\n<!-- K -->\n<g id=\"node8\" class=\"node\">\n<title>K</title>\n<ellipse fill=\"none\" stroke=\"black\" cx=\"243\" cy=\"-18\" rx=\"27\" ry=\"18\"/>\n<text text-anchor=\"middle\" x=\"243\" y=\"-14.3\" font-family=\"Times,serif\" font-size=\"14.00\">K</text>\n</g>\n<!-- E&#45;&gt;K -->\n<g id=\"edge7\" class=\"edge\">\n<title>E&#45;&gt;K</title>\n<path fill=\"none\" stroke=\"black\" d=\"M200.98,-73.46C207.98,-64.4 216.94,-52.79 224.79,-42.61\"/>\n<polygon fill=\"black\" stroke=\"black\" points=\"227.71,-44.55 231.05,-34.49 222.17,-40.27 227.71,-44.55\"/>\n</g>\n<!-- F -->\n<g id=\"node10\" class=\"node\">\n<title>F</title>\n<ellipse fill=\"none\" stroke=\"black\" cx=\"297\" cy=\"-90\" rx=\"27\" ry=\"18\"/>\n<text text-anchor=\"middle\" x=\"297\" y=\"-86.3\" font-family=\"Times,serif\" font-size=\"14.00\">F</text>\n</g>\n<!-- C&#45;&gt;F -->\n<g id=\"edge9\" class=\"edge\">\n<title>C&#45;&gt;F</title>\n<path fill=\"none\" stroke=\"black\" d=\"M297,-143.7C297,-135.98 297,-126.71 297,-118.11\"/>\n<polygon fill=\"black\" stroke=\"black\" points=\"300.5,-118.1 297,-108.1 293.5,-118.1 300.5,-118.1\"/>\n</g>\n<!-- G -->\n<g id=\"node12\" class=\"node\">\n<title>G</title>\n<ellipse fill=\"none\" stroke=\"black\" cx=\"369\" cy=\"-90\" rx=\"27\" ry=\"18\"/>\n<text text-anchor=\"middle\" x=\"369\" y=\"-86.3\" font-family=\"Times,serif\" font-size=\"14.00\">G</text>\n</g>\n<!-- C&#45;&gt;G -->\n<g id=\"edge11\" class=\"edge\">\n<title>C&#45;&gt;G</title>\n<path fill=\"none\" stroke=\"black\" d=\"M311.57,-146.83C321.75,-136.94 335.52,-123.55 347.03,-112.36\"/>\n<polygon fill=\"black\" stroke=\"black\" points=\"349.47,-114.87 354.2,-105.38 344.59,-109.85 349.47,-114.87\"/>\n</g>\n<!-- L -->\n<g id=\"node11\" class=\"node\">\n<title>L</title>\n<ellipse fill=\"none\" stroke=\"black\" cx=\"315\" cy=\"-18\" rx=\"27\" ry=\"18\"/>\n<text text-anchor=\"middle\" x=\"315\" y=\"-14.3\" font-family=\"Times,serif\" font-size=\"14.00\">L</text>\n</g>\n<!-- F&#45;&gt;L -->\n<g id=\"edge10\" class=\"edge\">\n<title>F&#45;&gt;L</title>\n<path fill=\"none\" stroke=\"black\" d=\"M301.36,-72.05C303.39,-64.14 305.86,-54.54 308.14,-45.69\"/>\n<polygon fill=\"black\" stroke=\"black\" points=\"311.58,-46.35 310.68,-35.79 304.8,-44.6 311.58,-46.35\"/>\n</g>\n</g>\n</svg>\n",
      "text/plain": [
       "<graphviz.graphs.Digraph at 0x7faf9a56bd90>"
      ]
     },
     "execution_count": 41,
     "metadata": {},
     "output_type": "execute_result"
    }
   ],
   "source": [
    "digraph"
   ]
  },
  {
   "cell_type": "code",
   "execution_count": 44,
   "metadata": {},
   "outputs": [
    {
     "name": "stdout",
     "output_type": "stream",
     "text": [
      "Preorder: ['A', 'B', 'D', 'H', 'I', 'E', 'J', 'K', 'C', 'F', 'L', 'G']\n",
      "Inorder: ['H', 'D', 'I', 'B', 'J', 'E', 'K', 'A', 'L', 'F', 'C', 'G']\n",
      "Postorder: ['H', 'I', 'D', 'J', 'K', 'E', 'B', 'L', 'F', 'G', 'C', 'A']\n"
     ]
    }
   ],
   "source": [
    "trans= display_transversals((root))"
   ]
  },
  {
   "cell_type": "code",
   "execution_count": 4,
   "metadata": {},
   "outputs": [
    {
     "name": "stdout",
     "output_type": "stream",
     "text": [
      "acr\n",
      "acr\n",
      "abt\n",
      "abt\n",
      "art\n"
     ]
    }
   ],
   "source": [
    "words = [\"car\", \"arc\", \"bat\", \"tab\", \"rat\"]\n",
    "\n",
    "for word in words:\n",
    "    srt_wrd = \"\".join(sorted(word))\n",
    "    print(srt_wrd)"
   ]
  },
  {
   "cell_type": "code",
   "execution_count": 6,
   "metadata": {},
   "outputs": [
    {
     "name": "stdout",
     "output_type": "stream",
     "text": [
      "[['car', 'arc'], ['bat', 'tab'], ['rat']]\n"
     ]
    }
   ],
   "source": [
    "def groupAnagrams(words):\n",
    "    anagrams = {}\n",
    "    for word in words:\n",
    "        sortedWord = \"\".join(sorted(word))\n",
    "        if sortedWord in anagrams:\n",
    "            anagrams[sortedWord].append(word)\n",
    "        else:\n",
    "            anagrams[sortedWord] = [word]\n",
    "    return list(anagrams.values())\n",
    "\n",
    "# Test the function\n",
    "words = [\"car\", \"arc\", \"bat\", \"tab\", \"rat\"]\n",
    "print(groupAnagrams(words))\n"
   ]
  },
  {
   "cell_type": "code",
   "execution_count": 8,
   "metadata": {},
   "outputs": [],
   "source": [
    "def top_k_frequent(lst, k):\n",
    "    # Create an empty dictionary\n",
    "    frequency = {}\n",
    "    \n",
    "    # Iterate through the list and count the frequency of each element\n",
    "    for element in lst:\n",
    "        if element in frequency:\n",
    "            frequency[element] += 1\n",
    "        else:\n",
    "            frequency[element] = 1\n",
    "    \n",
    "    # Sort the dictionary by the frequency of the elements\n",
    "    sorted_frequency = sorted(frequency, key=frequency.get, reverse=True)\n",
    "    print(sorted_frequency)\n",
    "    # Return the top k elements\n",
    "    return sorted_frequency[:k]\n"
   ]
  },
  {
   "cell_type": "code",
   "execution_count": 10,
   "metadata": {},
   "outputs": [
    {
     "name": "stdout",
     "output_type": "stream",
     "text": [
      "[1, 2, 3]\n",
      "[1, 2]\n"
     ]
    }
   ],
   "source": [
    "print(top_k_frequent([1,1,1,2,2,3],2))"
   ]
  },
  {
   "cell_type": "code",
   "execution_count": 19,
   "metadata": {},
   "outputs": [
    {
     "name": "stdout",
     "output_type": "stream",
     "text": [
      "['brand', 'model', 'year']\n"
     ]
    }
   ],
   "source": [
    "car = {\n",
    "  \"brand\": \"Ford\",\n",
    "  \"model\": \"Mustang\",\n",
    "  \"year\": \"jan\"\n",
    "}\n",
    "\n",
    "x = sorted(car,key=car.get)\n",
    "\n",
    "print(x) "
   ]
  },
  {
   "cell_type": "code",
   "execution_count": null,
   "metadata": {},
   "outputs": [],
   "source": [
    "class Solution:\n",
    "    def combinationSum2(self, candidates: List[int], target: int) -> List[List[int]]:\n",
    "\n",
    "        def backtrack(result, tempList, candidates, remain, subsets):\n",
    "            if remain < 0:\n",
    "                return\n",
    "            elif remain == 0:\n",
    "                subset = tuple(tempList)\n",
    "                if subset not in subsets:\n",
    "                    result.append(tempList.copy())\n",
    "                    subsets.add(subset)\n",
    "            else:\n",
    "                for i in range(len(candidates)):\n",
    "                    tempList.append(candidates[i])\n",
    "                    backtrack(result, tempList, candidates, remain-candidates[i], subsets)\n",
    "                    tempList.pop()\n",
    "\n",
    "        result = []\n",
    "        subsets = set()\n",
    "        candidates.sort()\n",
    "        backtrack(result, [], candidates, target, subsets)\n",
    "        return result\n"
   ]
  },
  {
   "cell_type": "code",
   "execution_count": null,
   "metadata": {},
   "outputs": [],
   "source": [
    "class Solution:\n",
    "    def combinationSum2(self, candidates: List[int], target: int) -> List[List[int]]:\n",
    "\n",
    "        def backtrack(tempList, candidates, remain, start):\n",
    "            if remain < 0:\n",
    "                return\n",
    "            elif remain == 0:\n",
    "                yield tempList.copy()\n",
    "            else:\n",
    "                for i in range(start, len(candidates)):\n",
    "                    # Check for duplciates\n",
    "                    if (i > start and candidates[i] == candidates[i-1]):\n",
    "                        continue\n",
    "                    tempList.append(candidates[i])\n",
    "                    yield from backtrack(tempList, candidates, remain-candidates[i], i+1)\n",
    "                    tempList.pop()\n",
    "        \n",
    "        candidates.sort()\n",
    "        return list(backtrack([], candidates, target, 0))\n"
   ]
  },
  {
   "cell_type": "code",
   "execution_count": null,
   "metadata": {},
   "outputs": [],
   "source": [
    "class Solution:\n",
    "    def combinationSum2(self, candidates: List[int], target: int) -> List[List[int]]:\n",
    "\n",
    "        def backtrack(tempList, candidates, remain, start, subsets):\n",
    "            if remain < 0:\n",
    "                return\n",
    "            elif remain == 0:\n",
    "                subset = tuple(tempList)\n",
    "                if subset not in subsets:\n",
    "                    yield tempList.copy()\n",
    "                    subsets.add(subset)\n",
    "            else:\n",
    "                for i in range(start, len(candidates)):\n",
    "                    if i > start and candidates[i] == candidates[i-1]:\n",
    "                        continue   \n",
    "                    tempList.append(candidates[i])\n",
    "                    yield from backtrack(tempList, candidates, remain-candidates[i], i+1, subsets)\n",
    "                    tempList.pop()\n",
    "\n",
    "        subsets = set()\n",
    "        candidates.sort()\n",
    "        return list(backtrack([], candidates, target, 0, subsets))\n"
   ]
  },
  {
   "cell_type": "code",
   "execution_count": null,
   "metadata": {},
   "outputs": [],
   "source": [
    "#Pruning:\n",
    "class Solution:\n",
    "    def combinationSum2(self, candidates: List[int], target: int) -> List[List[int]]:\n",
    "\n",
    "        def backtrack(resutl, tempList, candidates, remain, start):\n",
    "            if remain < 0:\n",
    "                return\n",
    "            elif remain == 0:\n",
    "                result.append(tempList.copy())\n",
    "            else:\n",
    "                for i in range (start, len(candidates)):\n",
    "                    # Check for duplciates\n",
    "                    if (i > start and candidates[i] == candidates[i-1]):\n",
    "                        continue\n",
    "                    if (candidates[i] > remain):\n",
    "                        continue\n",
    "                    tempList.append(candidates[i])\n",
    "                    backtrack(result,tempList, candidates, remain-candidates[i], i+1)\n",
    "                    tempList.pop()\n",
    "        \n",
    "        result = []\n",
    "        candidates.sort()\n",
    "        backtrack(result, [], candidates, target, 0)\n",
    "        return result\n",
    "\n"
   ]
  },
  {
   "cell_type": "code",
   "execution_count": null,
   "metadata": {},
   "outputs": [],
   "source": [
    "# Dynamic Programming:\n",
    "class Solution:\n",
    "    def combinationSum2(self, candidates: List[int], target: int) -> List[List[int]]:\n",
    "\n",
    "        def backtrack(resutl, tempList, candidates, remain, start):\n",
    "            if remain < 0:\n",
    "                return\n",
    "            elif remain == 0:\n",
    "                result.append(tempList.copy())\n",
    "            else:\n",
    "                for i in range (start, len(candidates)):\n",
    "                    # Check for duplciates\n",
    "                    if (i > start and candidates[i] == candidates[i-1]):\n",
    "                        continue\n",
    "                    if (candidates[i] > remain):\n",
    "                        continue\n",
    "                    tempList.append(candidates[i])\n",
    "                    backtrack(result,tempList, candidates, remain-candidates[i], i+1)\n",
    "                    tempList.pop()\n",
    "        \n",
    "        result = []\n",
    "        candidates.sort()\n",
    "        backtrack(result, [], candidates, target, 0)\n",
    "        return result\n"
   ]
  },
  {
   "cell_type": "code",
   "execution_count": null,
   "metadata": {},
   "outputs": [],
   "source": [
    "from typing import List \n",
    "\n"
   ]
  },
  {
   "cell_type": "code",
   "execution_count": 7,
   "metadata": {},
   "outputs": [],
   "source": [
    "from typing import List\n",
    "\n",
    "\n",
    "class Solution:\n",
    "    def combinationSum2(self, candidates: List[int], target: int) -> List[List[int]]:\n",
    "        def backtrack(result, tempList, candidates, remain, start):\n",
    "            print(f'TempList: {tempList}, remain: {remain}, start: {start}')\n",
    "            if remain < 0:\n",
    "                return\n",
    "            elif remain == 0:\n",
    "                result.append(tempList.copy())\n",
    "                print(f'valid subset: {tempList}')\n",
    "            else:\n",
    "                for i in range(start, len(candidates)):\n",
    "                    # Skip duplicates\n",
    "                    if i > start and candidates[i] == candidates[i-1]:\n",
    "                        continue\n",
    "                    # Prune the branches that are guaranteed to not produce a valid solution\n",
    "                    if candidates[i] > remain:\n",
    "                        break\n",
    "                    tempList.append(candidates[i])\n",
    "                    backtrack(result, tempList, candidates, remain - candidates[i], i + 1)\n",
    "                    tempList.pop()\n",
    "        result = []\n",
    "        candidates.sort()\n",
    "        print(f'Candidates_sorted={candidates}')\n",
    "        backtrack(result, [], candidates, target, 0)\n",
    "        return result\n"
   ]
  },
  {
   "cell_type": "code",
   "execution_count": 8,
   "metadata": {},
   "outputs": [
    {
     "name": "stdout",
     "output_type": "stream",
     "text": [
      "Candidates_sorted=[1, 1, 2, 5, 6, 7, 10]\n",
      "TempList: [], remain: 8, start: 0\n",
      "TempList: [1], remain: 7, start: 1\n",
      "TempList: [1, 1], remain: 6, start: 2\n",
      "TempList: [1, 1, 2], remain: 4, start: 3\n",
      "TempList: [1, 1, 5], remain: 1, start: 4\n",
      "TempList: [1, 1, 6], remain: 0, start: 5\n",
      "valid subset: [1, 1, 6]\n",
      "TempList: [1, 2], remain: 5, start: 3\n",
      "TempList: [1, 2, 5], remain: 0, start: 4\n",
      "valid subset: [1, 2, 5]\n",
      "TempList: [1, 5], remain: 2, start: 4\n",
      "TempList: [1, 6], remain: 1, start: 5\n",
      "TempList: [1, 7], remain: 0, start: 6\n",
      "valid subset: [1, 7]\n",
      "TempList: [2], remain: 6, start: 3\n",
      "TempList: [2, 5], remain: 1, start: 4\n",
      "TempList: [2, 6], remain: 0, start: 5\n",
      "valid subset: [2, 6]\n",
      "TempList: [5], remain: 3, start: 4\n",
      "TempList: [6], remain: 2, start: 5\n",
      "TempList: [7], remain: 1, start: 6\n"
     ]
    },
    {
     "data": {
      "text/plain": [
       "[[1, 1, 6], [1, 2, 5], [1, 7], [2, 6]]"
      ]
     },
     "execution_count": 8,
     "metadata": {},
     "output_type": "execute_result"
    }
   ],
   "source": [
    "x = Solution()\n",
    "\n",
    "arr = [10,1,2,7,6,1,5]\n",
    "target = 8\n",
    "\n",
    "x.combinationSum2(arr, target)"
   ]
  },
  {
   "cell_type": "code",
   "execution_count": 6,
   "metadata": {},
   "outputs": [
    {
     "name": "stdout",
     "output_type": "stream",
     "text": [
      "TempList: [], remain: 8, start: 0\n",
      "TempList: [1], remain: 7, start: 1\n",
      "TempList: [1, 1], remain: 6, start: 2\n",
      "TempList: [1, 1, 2], remain: 4, start: 3\n",
      "TempList: [1, 1, 5], remain: 1, start: 4\n",
      "TempList: [1, 1, 6], remain: 0, start: 5\n",
      "valid subset: [1, 1, 6]\n",
      "TempList: [1, 2], remain: 5, start: 3\n",
      "TempList: [1, 2, 5], remain: 0, start: 4\n",
      "valid subset: [1, 2, 5]\n",
      "TempList: [1, 5], remain: 2, start: 4\n",
      "TempList: [1, 6], remain: 1, start: 5\n",
      "TempList: [1, 7], remain: 0, start: 6\n",
      "valid subset: [1, 7]\n",
      "TempList: [1], remain: 7, start: 2\n",
      "TempList: [1, 2], remain: 5, start: 3\n",
      "TempList: [1, 2, 5], remain: 0, start: 4\n",
      "valid subset: [1, 2, 5]\n",
      "TempList: [1, 5], remain: 2, start: 4\n",
      "TempList: [1, 6], remain: 1, start: 5\n",
      "TempList: [1, 7], remain: 0, start: 6\n",
      "valid subset: [1, 7]\n",
      "TempList: [2], remain: 6, start: 3\n",
      "TempList: [2, 5], remain: 1, start: 4\n",
      "TempList: [2, 6], remain: 0, start: 5\n",
      "valid subset: [2, 6]\n",
      "TempList: [5], remain: 3, start: 4\n",
      "TempList: [6], remain: 2, start: 5\n",
      "TempList: [7], remain: 1, start: 6\n"
     ]
    },
    {
     "data": {
      "text/plain": [
       "[[1, 1, 6], [1, 2, 5], [1, 7], [1, 2, 5], [1, 7], [2, 6]]"
      ]
     },
     "execution_count": 6,
     "metadata": {},
     "output_type": "execute_result"
    }
   ],
   "source": [
    "y = Solution()\n",
    "\n",
    "arr = [10,1,2,7,6,1,5]\n",
    "target = 8\n",
    "\n",
    "y.combinationSum2(arr, target)"
   ]
  },
  {
   "cell_type": "code",
   "execution_count": 12,
   "metadata": {},
   "outputs": [],
   "source": [
    "from collections import Counter\n",
    "class Solution:\n",
    "    def subarraysWithKDistinct(self, A, K):\n",
    "        print(f\"Subarrays with at most {K} distinct integers: {self.atMostK(A, K)}\")\n",
    "        print(f\"Subarrays with at most {K-1} distinct integers: {self.atMostK(A, K-1)}\")\n",
    "        print(f'final_result={self.atMostK(A, K) - self.atMostK(A, K - 1)}')\n",
    "        return self.atMostK(A, K) - self.atMostK(A, K - 1)\n",
    "\n",
    "    def atMostK(self, A, K):\n",
    "        count = Counter()\n",
    "        res = i = 0\n",
    "        for j in range(len(A)):\n",
    "            if count[A[j]] == 0: \n",
    "                K -= 1\n",
    "                print(f\"New distinct element {A[j]}. Decrementing K to {K}\")\n",
    "            count[A[j]] += 1\n",
    "            print(f\"Current count: {count}\")\n",
    "            while K < 0:\n",
    "                count[A[i]] -= 1\n",
    "                if count[A[i]] == 0: \n",
    "                    K += 1\n",
    "                    print(f\"Removing element {A[i]}. Incrementing K to {K}\")\n",
    "                i += 1\n",
    "                print(f\"New i: {i}\")\n",
    "            res += j - i + 1\n",
    "            print(f\"Adding {j-i+1} to result. Current result: {res}\")\n",
    "        return res\n"
   ]
  },
  {
   "cell_type": "code",
   "execution_count": 13,
   "metadata": {},
   "outputs": [
    {
     "name": "stdout",
     "output_type": "stream",
     "text": [
      "New distinct element 1. Decrementing K to 1\n",
      "Current count: Counter({1: 1})\n",
      "Adding 1 to result. Current result: 1\n",
      "New distinct element 2. Decrementing K to 0\n",
      "Current count: Counter({1: 1, 2: 1})\n",
      "Adding 2 to result. Current result: 3\n",
      "Current count: Counter({1: 2, 2: 1})\n",
      "Adding 3 to result. Current result: 6\n",
      "Current count: Counter({1: 2, 2: 2})\n",
      "Adding 4 to result. Current result: 10\n",
      "New distinct element 3. Decrementing K to -1\n",
      "Current count: Counter({1: 2, 2: 2, 3: 1})\n",
      "New i: 1\n",
      "New i: 2\n",
      "Removing element 1. Incrementing K to 0\n",
      "New i: 3\n",
      "Adding 2 to result. Current result: 12\n",
      "Subarrays with at most 2 distinct integers: 12\n",
      "New distinct element 1. Decrementing K to 0\n",
      "Current count: Counter({1: 1})\n",
      "Adding 1 to result. Current result: 1\n",
      "New distinct element 2. Decrementing K to -1\n",
      "Current count: Counter({1: 1, 2: 1})\n",
      "Removing element 1. Incrementing K to 0\n",
      "New i: 1\n",
      "Adding 1 to result. Current result: 2\n",
      "New distinct element 1. Decrementing K to -1\n",
      "Current count: Counter({1: 1, 2: 1})\n",
      "Removing element 2. Incrementing K to 0\n",
      "New i: 2\n",
      "Adding 1 to result. Current result: 3\n",
      "New distinct element 2. Decrementing K to -1\n",
      "Current count: Counter({1: 1, 2: 1})\n",
      "Removing element 1. Incrementing K to 0\n",
      "New i: 3\n",
      "Adding 1 to result. Current result: 4\n",
      "New distinct element 3. Decrementing K to -1\n",
      "Current count: Counter({2: 1, 3: 1, 1: 0})\n",
      "Removing element 2. Incrementing K to 0\n",
      "New i: 4\n",
      "Adding 1 to result. Current result: 5\n",
      "Subarrays with at most 1 distinct integers: 5\n",
      "New distinct element 1. Decrementing K to 1\n",
      "Current count: Counter({1: 1})\n",
      "Adding 1 to result. Current result: 1\n",
      "New distinct element 2. Decrementing K to 0\n",
      "Current count: Counter({1: 1, 2: 1})\n",
      "Adding 2 to result. Current result: 3\n",
      "Current count: Counter({1: 2, 2: 1})\n",
      "Adding 3 to result. Current result: 6\n",
      "Current count: Counter({1: 2, 2: 2})\n",
      "Adding 4 to result. Current result: 10\n",
      "New distinct element 3. Decrementing K to -1\n",
      "Current count: Counter({1: 2, 2: 2, 3: 1})\n",
      "New i: 1\n",
      "New i: 2\n",
      "Removing element 1. Incrementing K to 0\n",
      "New i: 3\n",
      "Adding 2 to result. Current result: 12\n",
      "New distinct element 1. Decrementing K to 0\n",
      "Current count: Counter({1: 1})\n",
      "Adding 1 to result. Current result: 1\n",
      "New distinct element 2. Decrementing K to -1\n",
      "Current count: Counter({1: 1, 2: 1})\n",
      "Removing element 1. Incrementing K to 0\n",
      "New i: 1\n",
      "Adding 1 to result. Current result: 2\n",
      "New distinct element 1. Decrementing K to -1\n",
      "Current count: Counter({1: 1, 2: 1})\n",
      "Removing element 2. Incrementing K to 0\n",
      "New i: 2\n",
      "Adding 1 to result. Current result: 3\n",
      "New distinct element 2. Decrementing K to -1\n",
      "Current count: Counter({1: 1, 2: 1})\n",
      "Removing element 1. Incrementing K to 0\n",
      "New i: 3\n",
      "Adding 1 to result. Current result: 4\n",
      "New distinct element 3. Decrementing K to -1\n",
      "Current count: Counter({2: 1, 3: 1, 1: 0})\n",
      "Removing element 2. Incrementing K to 0\n",
      "New i: 4\n",
      "Adding 1 to result. Current result: 5\n",
      "final_result=7\n",
      "New distinct element 1. Decrementing K to 1\n",
      "Current count: Counter({1: 1})\n",
      "Adding 1 to result. Current result: 1\n",
      "New distinct element 2. Decrementing K to 0\n",
      "Current count: Counter({1: 1, 2: 1})\n",
      "Adding 2 to result. Current result: 3\n",
      "Current count: Counter({1: 2, 2: 1})\n",
      "Adding 3 to result. Current result: 6\n",
      "Current count: Counter({1: 2, 2: 2})\n",
      "Adding 4 to result. Current result: 10\n",
      "New distinct element 3. Decrementing K to -1\n",
      "Current count: Counter({1: 2, 2: 2, 3: 1})\n",
      "New i: 1\n",
      "New i: 2\n",
      "Removing element 1. Incrementing K to 0\n",
      "New i: 3\n",
      "Adding 2 to result. Current result: 12\n",
      "New distinct element 1. Decrementing K to 0\n",
      "Current count: Counter({1: 1})\n",
      "Adding 1 to result. Current result: 1\n",
      "New distinct element 2. Decrementing K to -1\n",
      "Current count: Counter({1: 1, 2: 1})\n",
      "Removing element 1. Incrementing K to 0\n",
      "New i: 1\n",
      "Adding 1 to result. Current result: 2\n",
      "New distinct element 1. Decrementing K to -1\n",
      "Current count: Counter({1: 1, 2: 1})\n",
      "Removing element 2. Incrementing K to 0\n",
      "New i: 2\n",
      "Adding 1 to result. Current result: 3\n",
      "New distinct element 2. Decrementing K to -1\n",
      "Current count: Counter({1: 1, 2: 1})\n",
      "Removing element 1. Incrementing K to 0\n",
      "New i: 3\n",
      "Adding 1 to result. Current result: 4\n",
      "New distinct element 3. Decrementing K to -1\n",
      "Current count: Counter({2: 1, 3: 1, 1: 0})\n",
      "Removing element 2. Incrementing K to 0\n",
      "New i: 4\n",
      "Adding 1 to result. Current result: 5\n"
     ]
    },
    {
     "data": {
      "text/plain": [
       "7"
      ]
     },
     "execution_count": 13,
     "metadata": {},
     "output_type": "execute_result"
    }
   ],
   "source": [
    "x = Solution()\n",
    "nums = [1,2,1,2,3]\n",
    "k = 2\n",
    "\n",
    "x.subarraysWithKDistinct(nums,k)"
   ]
  },
  {
   "cell_type": "code",
   "execution_count": 36,
   "metadata": {},
   "outputs": [],
   "source": [
    "# nums = [1,2,1,2,3], k = 2\n",
    "def subarrayKDistinct(nums,k):\n",
    "    \n",
    "    count = dict()\n",
    "    distinct_int = 0\n",
    "    result = 0\n",
    "    current_length = 1\n",
    "    start = 0\n",
    "    good_subarry =[]\n",
    "\n",
    "    for i in range (len(nums)):\n",
    "\n",
    "        if nums[i] in count:\n",
    "            count[nums[i]] += 1\n",
    "            print(\"count: \", count)\n",
    "\n",
    "        else:\n",
    "            count[nums[i]] = 1\n",
    "            distinct_int += 1\n",
    "            print(\"count: \", count)\n",
    "\n",
    "        if distinct_int < k :\n",
    "            continue\n",
    "\n",
    "        while distinct_int > k:\n",
    "            current_length = 1\n",
    "            count[nums[start]] -= 1\n",
    "            if count[nums[start]] == 0:\n",
    "                del count[nums[start]]\n",
    "                distinct_int -= 1\n",
    "            start += 1\n",
    "            print(\"count: \", count)\n",
    "        while count[nums[start]] > 1 :\n",
    "            count[nums[start]] -= 1\n",
    "            start += 1\n",
    "            current_length += 1\n",
    "            print(f'start={start}')\n",
    "            print(f'current_len={current_length}')\n",
    "            print(\"count: \", count)\n",
    "        result += current_length\n",
    "        good_subarry.append(nums[start:i+1])\n",
    "        print(f'good_arr={good_subarry}')\n",
    "        print(\"result: \", result)\n",
    "    return result,good_subarry\n"
   ]
  },
  {
   "cell_type": "code",
   "execution_count": 37,
   "metadata": {},
   "outputs": [
    {
     "name": "stdout",
     "output_type": "stream",
     "text": [
      "count:  {1: 1}\n",
      "count:  {1: 1, 2: 1}\n",
      "good_arr=[[1, 2]]\n",
      "result:  1\n",
      "count:  {1: 2, 2: 1}\n",
      "start=1\n",
      "current_len=2\n",
      "count:  {1: 1, 2: 1}\n",
      "good_arr=[[1, 2], [2, 1]]\n",
      "result:  3\n",
      "count:  {1: 1, 2: 2}\n",
      "start=2\n",
      "current_len=3\n",
      "count:  {1: 1, 2: 1}\n",
      "good_arr=[[1, 2], [2, 1], [1, 2]]\n",
      "result:  6\n",
      "count:  {1: 1, 2: 1, 3: 1}\n",
      "count:  {2: 1, 3: 1}\n",
      "good_arr=[[1, 2], [2, 1], [1, 2], [2, 3]]\n",
      "result:  7\n"
     ]
    },
    {
     "data": {
      "text/plain": [
       "(7, [[1, 2], [2, 1], [1, 2], [2, 3]])"
      ]
     },
     "execution_count": 37,
     "metadata": {},
     "output_type": "execute_result"
    }
   ],
   "source": [
    "subarrayKDistinct(nums = [1,2,1,2,3], k = 2)"
   ]
  },
  {
   "cell_type": "code",
   "execution_count": 39,
   "metadata": {},
   "outputs": [],
   "source": [
    "def subarraysWithKDistinct( nums: List[int], k: int) -> int:\n",
    "    count = dict()\n",
    "    distinct_int = 0\n",
    "    result = 0\n",
    "    current_length = 1\n",
    "    start = 0\n",
    "    good_subarrays = []\n",
    "\n",
    "    for i in range (len(nums)):\n",
    "\n",
    "        if nums[i] in count:\n",
    "            count[nums[i]] += 1\n",
    "\n",
    "        else:\n",
    "            count[nums[i]] = 1\n",
    "            distinct_int += 1\n",
    "\n",
    "        if distinct_int < k :\n",
    "            continue\n",
    "\n",
    "        while distinct_int > k:\n",
    "            current_length = 1\n",
    "            count[nums[start]] -= 1\n",
    "            if count[nums[start]] == 0:\n",
    "                del count[nums[start]]\n",
    "                distinct_int -= 1\n",
    "            start += 1\n",
    "        while count[nums[start]] > 1 :\n",
    "            count[nums[start]] -= 1\n",
    "            start += 1\n",
    "            current_length += 1\n",
    "    result += current_length\n",
    "    good_subarrays.append(nums[start:i+1])\n",
    "    return result,good_subarrays\n"
   ]
  },
  {
   "cell_type": "code",
   "execution_count": 40,
   "metadata": {},
   "outputs": [
    {
     "data": {
      "text/plain": [
       "(1, [[2, 3]])"
      ]
     },
     "execution_count": 40,
     "metadata": {},
     "output_type": "execute_result"
    }
   ],
   "source": [
    "subarraysWithKDistinct(nums = [1,2,1,2,3], k = 2)"
   ]
  },
  {
   "cell_type": "code",
   "execution_count": 41,
   "metadata": {},
   "outputs": [
    {
     "name": "stdout",
     "output_type": "stream",
     "text": [
      "num = -2\n",
      "max_till_now=-inf\n",
      "max_sum=0\n",
      "max_till_now(0 vs current)=0\n",
      "num = 1\n",
      "max_till_now=1\n",
      "max_sum=1\n",
      "max_till_now(0 vs current)=1\n",
      "num = -3\n",
      "max_till_now=-2\n",
      "max_sum=1\n",
      "max_till_now(0 vs current)=0\n",
      "num = 4\n",
      "max_till_now=4\n",
      "max_sum=4\n",
      "max_till_now(0 vs current)=4\n",
      "num = -1\n",
      "max_till_now=3\n",
      "max_sum=4\n",
      "max_till_now(0 vs current)=3\n",
      "num = 2\n",
      "max_till_now=5\n",
      "max_sum=5\n",
      "max_till_now(0 vs current)=5\n",
      "num = 1\n",
      "max_till_now=6\n",
      "max_sum=6\n",
      "max_till_now(0 vs current)=6\n",
      "num = -5\n",
      "max_till_now=1\n",
      "max_sum=6\n",
      "max_till_now(0 vs current)=1\n",
      "num = 4\n",
      "max_till_now=5\n",
      "max_sum=6\n",
      "max_till_now(0 vs current)=5\n"
     ]
    },
    {
     "data": {
      "text/plain": [
       "6"
      ]
     },
     "execution_count": 41,
     "metadata": {},
     "output_type": "execute_result"
    }
   ],
   "source": [
    "def kadane_algo(arr):\n",
    "    max_till_now = float('-inf')\n",
    "    max_sum = 0\n",
    "\n",
    "    for num in nums :\n",
    "        print(f'num = {num}')\n",
    "        max_till_now += num \n",
    "        print(f'max_till_now={max_till_now}')\n",
    "        max_sum = max(max_till_now, max_sum)\n",
    "        print(f'max_sum={max_sum}')\n",
    "        max_till_now = max(0, max_till_now)\n",
    "        print(f'max_till_now(0 vs current)={max_till_now}')\n",
    "    return max_sum\n",
    "\n",
    "nums = [-2,1,-3,4,-1,2,1,-5,4]\n",
    "\n",
    "kadane_algo(nums)"
   ]
  },
  {
   "cell_type": "code",
   "execution_count": 51,
   "metadata": {},
   "outputs": [
    {
     "data": {
      "text/plain": [
       "2"
      ]
     },
     "execution_count": 51,
     "metadata": {},
     "output_type": "execute_result"
    }
   ],
   "source": [
    "\n",
    "def xyz(nums, target):\n",
    "    start, end, curr_sum = 0, 0, 0\n",
    "    min_len = float('inf')\n",
    "\n",
    "    while end < len(nums):\n",
    "        curr_sum += nums[end]\n",
    "        while curr_sum >= target:\n",
    "            min_len = min(min_len, end-start+1)\n",
    "            curr_sum -= nums[start]\n",
    "            start +=1\n",
    "        # if curr_sum == target:\n",
    "        #     return nums[start:end+1]\n",
    "        end += 1\n",
    "    return min_len if min_len != float('inf') else 0\n",
    "\n",
    "nums = [2,3,1,2,4,3]\n",
    "target = 7 \n",
    "\n",
    "xyz(nums, target)\n"
   ]
  },
  {
   "cell_type": "code",
   "execution_count": 52,
   "metadata": {},
   "outputs": [
    {
     "data": {
      "text/plain": [
       "[4, 3]"
      ]
     },
     "execution_count": 52,
     "metadata": {},
     "output_type": "execute_result"
    }
   ],
   "source": [
    "def min_subarray(nums, target):\n",
    "    start, end, curr_sum = 0, 0, 0\n",
    "    min_len = float('inf')\n",
    "    min_sub = None\n",
    "    while end < len(nums):\n",
    "        curr_sum += nums[end]\n",
    "        while curr_sum >= target:\n",
    "            if end - start + 1 < min_len:\n",
    "                min_len = end - start + 1\n",
    "                min_sub = nums[start:end + 1]\n",
    "            curr_sum -= nums[start]\n",
    "            start += 1\n",
    "        end += 1\n",
    "    return min_sub if min_sub else []\n",
    "\n",
    "\n",
    "nums = [2,3,1,2,4,3]\n",
    "target = 7 \n",
    "\n",
    "min_subarray(nums, target)"
   ]
  },
  {
   "cell_type": "code",
   "execution_count": 65,
   "metadata": {},
   "outputs": [
    {
     "name": "stdout",
     "output_type": "stream",
     "text": [
      "end_start=0\n",
      "end_start=1\n",
      "end_start=2\n",
      "end_start=3\n",
      "end_start=4\n",
      "end_start=5\n"
     ]
    },
    {
     "data": {
      "text/plain": [
       "([4, 3], 2)"
      ]
     },
     "execution_count": 65,
     "metadata": {},
     "output_type": "execute_result"
    }
   ],
   "source": [
    "def minimum_subarray(arr, target):\n",
    "    start, end, current_sum = 0, 0, 0\n",
    "    min_length = float('inf')\n",
    "    min_subarray = None\n",
    "\n",
    "\n",
    "    while end < len(arr):\n",
    "        print(f'end_start={end}')\n",
    "        current_sum += arr[end]\n",
    "\n",
    "        while current_sum >= target:\n",
    "            if end - start + 1 < min_length :\n",
    "                min_length = end - start + 1\n",
    "                min_subarray = arr[start:end+1]\n",
    "            current_sum -= arr[start]\n",
    "            start += 1\n",
    "            \n",
    "        end += 1\n",
    "    return min_subarray if min_subarray is not None else [], min_length if min_length is not float('inf') else 0\n",
    "\n",
    "minimum_subarray(arr = [2,3,1,2,4,3],target = 7 )\n",
    "\n"
   ]
  },
  {
   "cell_type": "code",
   "execution_count": 71,
   "metadata": {},
   "outputs": [
    {
     "name": "stdout",
     "output_type": "stream",
     "text": [
      "current_array_value = 2\n",
      "end: 0, start: 0, current_sum: 2\n",
      "current_array_value = 3\n",
      "end: 1, start: 0, current_sum: 5\n",
      "current_array_value = 1\n",
      "end: 2, start: 0, current_sum: 6\n",
      "current_array_value = 2\n",
      "end_while loop = 3\n",
      "minimum_subarray:[2, 3, 1, 2],min_length:4\n",
      "end: 3, start: 1, current_sum: 6\n",
      "current_array_value = 4\n",
      "end_while loop = 4\n",
      "end_while loop = 4\n",
      "minimum_subarray:[1, 2, 4],min_length:3\n",
      "end: 4, start: 3, current_sum: 6\n",
      "current_array_value = 3\n",
      "end_while loop = 5\n",
      "end_while loop = 5\n",
      "minimum_subarray:[4, 3],min_length:2\n",
      "end: 5, start: 5, current_sum: 3\n"
     ]
    },
    {
     "data": {
      "text/plain": [
       "([4, 3], 2)"
      ]
     },
     "execution_count": 71,
     "metadata": {},
     "output_type": "execute_result"
    }
   ],
   "source": [
    "\n",
    "\n",
    "def minimum_subarray(arr, target):\n",
    "    start, end, current_sum = 0, 0, 0\n",
    "    min_length = float('inf')\n",
    "    min_subarray = None\n",
    "\n",
    "    while end < len(arr):\n",
    "        print(f'current_array_value = {arr[end]}')\n",
    "        current_sum += arr[end]\n",
    "\n",
    "        while current_sum >= target:\n",
    "            print(f'end_while loop = {end}')\n",
    "            if end - start + 1 < min_length :\n",
    "                min_length = end - start + 1\n",
    "                min_subarray = arr[start:end+1]\n",
    "                print(f'minimum_subarray:{min_subarray},min_length:{min_length}')\n",
    "            current_sum -= arr[start]\n",
    "            start += 1\n",
    "        print(f\"end: {end}, start: {start}, current_sum: {current_sum}\")\n",
    "            \n",
    "        end += 1\n",
    "    return min_subarray if min_subarray is not None else [], min_length if min_length is not float('inf') else 0\n",
    "\n",
    "minimum_subarray(arr= [2,3,1,2,4,3], target=7)"
   ]
  },
  {
   "cell_type": "code",
   "execution_count": 72,
   "metadata": {},
   "outputs": [
    {
     "data": {
      "text/plain": [
       "6"
      ]
     },
     "execution_count": 72,
     "metadata": {},
     "output_type": "execute_result"
    }
   ],
   "source": [
    "len([2,3,1,2,4,3])"
   ]
  },
  {
   "cell_type": "code",
   "execution_count": 91,
   "metadata": {},
   "outputs": [
    {
     "name": "stdout",
     "output_type": "stream",
     "text": [
      "len of s =32\n",
      "i = 0\n",
      "curr  = AAAAACCCCC\n",
      "i = 1\n",
      "curr  = AAAACCCCCA\n",
      "i = 2\n",
      "curr  = AAACCCCCAA\n",
      "i = 3\n",
      "curr  = AACCCCCAAA\n",
      "i = 4\n",
      "curr  = ACCCCCAAAA\n",
      "i = 5\n",
      "curr  = CCCCCAAAAA\n",
      "i = 6\n",
      "curr  = CCCCAAAAAC\n",
      "i = 7\n",
      "curr  = CCCAAAAACC\n",
      "i = 8\n",
      "curr  = CCAAAAACCC\n",
      "i = 9\n",
      "curr  = CAAAAACCCC\n",
      "i = 10\n",
      "curr  = AAAAACCCCC\n",
      "i = 11\n",
      "curr  = AAAACCCCCC\n",
      "i = 12\n",
      "curr  = AAACCCCCCA\n",
      "i = 13\n",
      "curr  = AACCCCCCAA\n",
      "i = 14\n",
      "curr  = ACCCCCCAAA\n",
      "i = 15\n",
      "curr  = CCCCCCAAAA\n",
      "i = 16\n",
      "curr  = CCCCCAAAAA\n",
      "i = 17\n",
      "curr  = CCCCAAAAAG\n",
      "i = 18\n",
      "curr  = CCCAAAAAGG\n",
      "i = 19\n",
      "curr  = CCAAAAAGGG\n",
      "i = 20\n",
      "curr  = CAAAAAGGGT\n",
      "i = 21\n",
      "curr  = AAAAAGGGTT\n",
      "i = 22\n",
      "curr  = AAAAGGGTTT\n"
     ]
    }
   ],
   "source": [
    "s = \"AAAAACCCCCAAAAACCCCCCAAAAAGGGTTT\"\n",
    "\n",
    "n = len(s)\n",
    "print(f'len of s ={n}')\n",
    "\n",
    "for i in range (n-9):\n",
    "    print(f'i = {i}')\n",
    "    curr = s[i:i+10]\n",
    "    print(f'curr  = {curr}')\n"
   ]
  },
  {
   "cell_type": "code",
   "execution_count": 82,
   "metadata": {},
   "outputs": [
    {
     "data": {
      "text/plain": [
       "(3, 'ece')"
      ]
     },
     "execution_count": 82,
     "metadata": {},
     "output_type": "execute_result"
    }
   ],
   "source": [
    "def qwe(s, k):\n",
    "\n",
    "    start, end = 0, 0\n",
    "    max_length = -float('inf')\n",
    "    hash_map = dict()\n",
    "    max_substring = None\n",
    "\n",
    "    while end < len(s):\n",
    "        if s[end] not in hash_map:\n",
    "            hash_map[s[end]] = 1\n",
    "        \n",
    "        else:\n",
    "            hash_map[s[end]] += 1\n",
    "        \n",
    "        while len(hash_map) > k :\n",
    "            hash_map[s[start]] -= 1\n",
    "\n",
    "            if hash_map[s[start]] == 0:\n",
    "                del hash_map[s[start]]\n",
    "            start += 1\n",
    "        if end - start + 1 > max_length:\n",
    "            max_length = end - start + 1\n",
    "            max_substring = s[start:end+1]\n",
    "        # max_length = max(max_length, end - start + 1)\n",
    "        end += 1\n",
    "    return max_length if max_length != -float('inf') else 0 , max_substring if max_substring != None else []\n",
    "\n",
    "\n",
    "\n",
    "\n",
    "qwe(s='eceba',k=2)  "
   ]
  },
  {
   "cell_type": "code",
   "execution_count": 89,
   "metadata": {},
   "outputs": [
    {
     "data": {
      "text/plain": [
       "4"
      ]
     },
     "execution_count": 89,
     "metadata": {},
     "output_type": "execute_result"
    }
   ],
   "source": [
    "def fruit_count(arr):\n",
    "    count_dict = dict()\n",
    "    start, end = 0, 0\n",
    "    max_len = 0\n",
    "\n",
    "    while end < len(arr):\n",
    "        if arr[end] not in count_dict:\n",
    "\n",
    "            count_dict[arr[end]] = 1\n",
    "        else:\n",
    "\n",
    "            count_dict[arr[end]] += 1\n",
    "\n",
    "        max_len = max(max_len, end - start + 1)\n",
    "        if len(count_dict) > 2:\n",
    "            count_dict[arr[start]] -= 1\n",
    "            if count_dict[arr[start]] == 0:\n",
    "                del count_dict[arr[start]]\n",
    "            start += 1\n",
    "        end += 1\n",
    "    return max_len \n",
    "\n",
    "fruit_count(arr=[1,2,3,2,2])"
   ]
  }
 ],
 "metadata": {
  "kernelspec": {
   "display_name": "Python 3.9.13 ('torch')",
   "language": "python",
   "name": "python3"
  },
  "language_info": {
   "codemirror_mode": {
    "name": "ipython",
    "version": 3
   },
   "file_extension": ".py",
   "mimetype": "text/x-python",
   "name": "python",
   "nbconvert_exporter": "python",
   "pygments_lexer": "ipython3",
   "version": "3.9.13"
  },
  "orig_nbformat": 4,
  "vscode": {
   "interpreter": {
    "hash": "71a3468136264f0b0d7556c549f6bb0813fce7ff26312333e72b8f960e346fd3"
   }
  }
 },
 "nbformat": 4,
 "nbformat_minor": 2
}
