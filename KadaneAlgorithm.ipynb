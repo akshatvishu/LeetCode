{
 "cells": [
  {
   "attachments": {},
   "cell_type": "markdown",
   "metadata": {},
   "source": [
    "### Kadane Algorithm (MaxSubArray):"
   ]
  },
  {
   "attachments": {},
   "cell_type": "markdown",
   "metadata": {},
   "source": [
    "The logic behind **Kadane's Algorithm** is to keep track of the `maximum sum subarray` that ends at each position in the input array. The algorithm scans the input array from left to right, updating the maximum sum subarray as it goes along.\n",
    "\n",
    "The algorithm keeps two variables:\n",
    "\n",
    "   - max_sum - this variable keeps track of the maximum sum subarray seen so far.\n",
    "   - max_ending_here - this variable keeps track of the maximum sum subarray that ends at the current position in the input array.\n",
    "\n",
    "At each position in the input array, the algorithm adds the current element to max_ending_here, and then updates max_sum to be the maximum of max_sum and max_ending_here. If max_ending_here is less than 0, the algorithm resets max_ending_here to 0, as starting a new subarray with the next element will result in a larger maximum sum subarray. This is because any subarray with a negative sum will only decrease the overall sum, so it is better to start a new subarray with the next element.\n",
    "\n",
    "This process continues until the end of the input array, and the final value of max_sum will be the maximum sum subarray of the input array. "
   ]
  },
  {
   "cell_type": "code",
   "execution_count": null,
   "metadata": {},
   "outputs": [],
   "source": [
    "def maximum_subarray(array):\n",
    "    \"\"\"\n",
    "    This function implements Kadane's Algorithm to find the maximum sum subarray of a given array.\n",
    "\n",
    "    Time complexity: O(n)\n",
    "    Space complexity: O(1)\n",
    "\n",
    "    Parameters:\n",
    "    array (List[int]): The input array\n",
    "\n",
    "    Returns:\n",
    "    int: The maximum sum subarray of the input array\n",
    "    \"\"\"\n",
    "    max_sum = float('-inf')\n",
    "    max_ending_here = 0\n",
    "\n",
    "    for num in array:\n",
    "        max_ending_here += num\n",
    "        max_sum = max(max_sum, max_ending_here)\n",
    "        max_ending_here = max(0, max_ending_here)\n",
    "\n",
    "    return max_sum\n"
   ]
  }
 ],
 "metadata": {
  "kernelspec": {
   "display_name": "Python 3",
   "language": "python",
   "name": "python3"
  },
  "language_info": {
   "name": "python",
   "version": "3.10.6"
  },
  "orig_nbformat": 4,
  "vscode": {
   "interpreter": {
    "hash": "916dbcbb3f70747c44a77c7bcd40155683ae19c65e1c03b4aa3499c5328201f1"
   }
  }
 },
 "nbformat": 4,
 "nbformat_minor": 2
}
